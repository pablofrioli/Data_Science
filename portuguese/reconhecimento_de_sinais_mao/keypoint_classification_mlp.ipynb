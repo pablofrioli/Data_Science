{
 "cells": [
  {
   "cell_type": "code",
   "execution_count": 1,
   "metadata": {
    "id": "igMyGnjE9hEp"
   },
   "outputs": [],
   "source": [
    "# importando bibliotecas\n",
    "import csv\n",
    "\n",
    "import numpy as np\n",
    "import tensorflow as tf\n",
    "\n",
    "from sklearn.model_selection import train_test_split\n",
    "\n",
    "RANDOM_SEED = 42"
   ]
  },
  {
   "cell_type": "markdown",
   "metadata": {
    "id": "t2HDvhIu9hEr"
   },
   "source": [
    "# Especificando cada caminho"
   ]
  },
  {
   "cell_type": "code",
   "execution_count": 2,
   "metadata": {
    "id": "9NvZP2Zn9hEy"
   },
   "outputs": [],
   "source": [
    "dataset = 'model/keypoint_classifier/keypoint_dataset.csv'\n",
    "model_save_path = 'model/keypoint_classifier/keypoint_classifier_mlp.hdf5'\n",
    "tflite_save_path = 'model/keypoint_classifier/keypoint_classifier_mlp.tflite'"
   ]
  },
  {
   "cell_type": "markdown",
   "metadata": {
    "id": "s5oMH7x19hEz"
   },
   "source": [
    "# Definindo o número de classes"
   ]
  },
  {
   "cell_type": "code",
   "execution_count": 3,
   "metadata": {
    "id": "du4kodXL9hEz"
   },
   "outputs": [],
   "source": [
    "NUM_CLASSES = 4"
   ]
  },
  {
   "cell_type": "markdown",
   "metadata": {
    "id": "XjnL0uso9hEz"
   },
   "source": [
    "# Leitura do dataset"
   ]
  },
  {
   "cell_type": "code",
   "execution_count": 4,
   "metadata": {
    "id": "QT5ZqtEz9hE0"
   },
   "outputs": [],
   "source": [
    "X_dataset = np.loadtxt(dataset, delimiter=',', dtype='float32', usecols=list(range(1, (21 * 2) + 1)))"
   ]
  },
  {
   "cell_type": "code",
   "execution_count": 5,
   "metadata": {
    "id": "QmoKFsp49hE0"
   },
   "outputs": [],
   "source": [
    "y_dataset = np.loadtxt(dataset, delimiter=',', dtype='int32', usecols=(0))"
   ]
  },
  {
   "cell_type": "code",
   "execution_count": 6,
   "metadata": {
    "id": "xQU7JTZ_9hE0"
   },
   "outputs": [],
   "source": [
    "X_train, X_test, y_train, y_test = train_test_split(X_dataset, y_dataset, train_size=0.75, random_state=RANDOM_SEED)"
   ]
  },
  {
   "cell_type": "markdown",
   "metadata": {
    "id": "mxK_lETT9hE0"
   },
   "source": [
    "# Construção do modelo"
   ]
  },
  {
   "cell_type": "code",
   "execution_count": 7,
   "metadata": {
    "id": "vHBmUf1t9hE1"
   },
   "outputs": [],
   "source": [
    "model = tf.keras.models.Sequential([\n",
    "    tf.keras.layers.Input((21 * 2, )),\n",
    "    tf.keras.layers.Dropout(0.2),\n",
    "    tf.keras.layers.Dense(20, activation='relu'),\n",
    "    tf.keras.layers.Dropout(0.4),\n",
    "    tf.keras.layers.Dense(10, activation='relu'),\n",
    "    tf.keras.layers.Dense(NUM_CLASSES, activation='softmax')\n",
    "])"
   ]
  },
  {
   "cell_type": "code",
   "execution_count": 8,
   "metadata": {
    "colab": {
     "base_uri": "https://localhost:8080/"
    },
    "id": "ypqky9tc9hE1",
    "outputId": "5db082bb-30e3-4110-bf63-a1ee777ecd46"
   },
   "outputs": [
    {
     "name": "stdout",
     "output_type": "stream",
     "text": [
      "Model: \"sequential\"\n",
      "_________________________________________________________________\n",
      " Layer (type)                Output Shape              Param #   \n",
      "=================================================================\n",
      " dropout (Dropout)           (None, 42)                0         \n",
      "                                                                 \n",
      " dense (Dense)               (None, 20)                860       \n",
      "                                                                 \n",
      " dropout_1 (Dropout)         (None, 20)                0         \n",
      "                                                                 \n",
      " dense_1 (Dense)             (None, 10)                210       \n",
      "                                                                 \n",
      " dense_2 (Dense)             (None, 4)                 44        \n",
      "                                                                 \n",
      "=================================================================\n",
      "Total params: 1,114\n",
      "Trainable params: 1,114\n",
      "Non-trainable params: 0\n",
      "_________________________________________________________________\n"
     ]
    }
   ],
   "source": [
    "model.summary()  # tf.keras.utils.plot_model(model, show_shapes=True)"
   ]
  },
  {
   "cell_type": "code",
   "execution_count": 9,
   "metadata": {
    "id": "MbMjOflQ9hE1"
   },
   "outputs": [],
   "source": [
    "# Checkpoint callback do modelo\n",
    "cp_callback = tf.keras.callbacks.ModelCheckpoint(\n",
    "    model_save_path, verbose=1, save_weights_only=False)\n",
    "# Callback para parada antecipada\n",
    "es_callback = tf.keras.callbacks.EarlyStopping(patience=20, verbose=1)"
   ]
  },
  {
   "cell_type": "code",
   "execution_count": 10,
   "metadata": {
    "id": "c3Dac0M_9hE2"
   },
   "outputs": [],
   "source": [
    "# Compilação do modelo\n",
    "model.compile(\n",
    "    optimizer='adam',\n",
    "    loss='sparse_categorical_crossentropy',\n",
    "    metrics=['accuracy']\n",
    ")"
   ]
  },
  {
   "cell_type": "markdown",
   "metadata": {
    "id": "7XI0j1Iu9hE2"
   },
   "source": [
    "# Treino do Modelo"
   ]
  },
  {
   "cell_type": "code",
   "execution_count": 11,
   "metadata": {
    "colab": {
     "base_uri": "https://localhost:8080/"
    },
    "id": "WirBl-JE9hE3",
    "outputId": "71b30ca2-8294-4d9d-8aa2-800d90d399de",
    "scrolled": true
   },
   "outputs": [
    {
     "name": "stdout",
     "output_type": "stream",
     "text": [
      "Epoch 1/1000\n",
      " 1/15 [=>............................] - ETA: 3s - loss: 1.8340 - accuracy: 0.1641\n",
      "Epoch 1: saving model to model/keypoint_classifier\\keypoint_classifier_mlp.hdf5\n",
      "15/15 [==============================] - 0s 11ms/step - loss: 1.6923 - accuracy: 0.1444 - val_loss: 1.4910 - val_accuracy: 0.1361\n",
      "Epoch 2/1000\n",
      " 1/15 [=>............................] - ETA: 0s - loss: 1.5201 - accuracy: 0.1719\n",
      "Epoch 2: saving model to model/keypoint_classifier\\keypoint_classifier_mlp.hdf5\n",
      "15/15 [==============================] - 0s 4ms/step - loss: 1.4800 - accuracy: 0.1729 - val_loss: 1.3879 - val_accuracy: 0.3475\n",
      "Epoch 3/1000\n",
      " 1/15 [=>............................] - ETA: 0s - loss: 1.4246 - accuracy: 0.1484\n",
      "Epoch 3: saving model to model/keypoint_classifier\\keypoint_classifier_mlp.hdf5\n",
      "15/15 [==============================] - 0s 4ms/step - loss: 1.4074 - accuracy: 0.2352 - val_loss: 1.3720 - val_accuracy: 0.4082\n",
      "Epoch 4/1000\n",
      " 1/15 [=>............................] - ETA: 0s - loss: 1.4034 - accuracy: 0.2109\n",
      "Epoch 4: saving model to model/keypoint_classifier\\keypoint_classifier_mlp.hdf5\n",
      "15/15 [==============================] - 0s 4ms/step - loss: 1.3854 - accuracy: 0.2856 - val_loss: 1.3602 - val_accuracy: 0.4131\n",
      "Epoch 5/1000\n",
      " 1/15 [=>............................] - ETA: 0s - loss: 1.3802 - accuracy: 0.3203\n",
      "Epoch 5: saving model to model/keypoint_classifier\\keypoint_classifier_mlp.hdf5\n",
      "15/15 [==============================] - 0s 4ms/step - loss: 1.3688 - accuracy: 0.3233 - val_loss: 1.3526 - val_accuracy: 0.4180\n",
      "Epoch 6/1000\n",
      " 1/15 [=>............................] - ETA: 0s - loss: 1.3475 - accuracy: 0.3516\n",
      "Epoch 6: saving model to model/keypoint_classifier\\keypoint_classifier_mlp.hdf5\n",
      "15/15 [==============================] - 0s 4ms/step - loss: 1.3545 - accuracy: 0.3556 - val_loss: 1.3441 - val_accuracy: 0.4230\n",
      "Epoch 7/1000\n",
      " 1/15 [=>............................] - ETA: 0s - loss: 1.3490 - accuracy: 0.3203\n",
      "Epoch 7: saving model to model/keypoint_classifier\\keypoint_classifier_mlp.hdf5\n",
      "15/15 [==============================] - 0s 3ms/step - loss: 1.3413 - accuracy: 0.3840 - val_loss: 1.3322 - val_accuracy: 0.4295\n",
      "Epoch 8/1000\n",
      " 1/15 [=>............................] - ETA: 0s - loss: 1.3432 - accuracy: 0.3750\n",
      "Epoch 8: saving model to model/keypoint_classifier\\keypoint_classifier_mlp.hdf5\n",
      "15/15 [==============================] - 0s 4ms/step - loss: 1.3268 - accuracy: 0.3922 - val_loss: 1.3149 - val_accuracy: 0.4295\n",
      "Epoch 9/1000\n",
      " 1/15 [=>............................] - ETA: 0s - loss: 1.3036 - accuracy: 0.4609\n",
      "Epoch 9: saving model to model/keypoint_classifier\\keypoint_classifier_mlp.hdf5\n",
      "15/15 [==============================] - 0s 4ms/step - loss: 1.3105 - accuracy: 0.4086 - val_loss: 1.2951 - val_accuracy: 0.4295\n",
      "Epoch 10/1000\n",
      " 1/15 [=>............................] - ETA: 0s - loss: 1.2679 - accuracy: 0.4609\n",
      "Epoch 10: saving model to model/keypoint_classifier\\keypoint_classifier_mlp.hdf5\n",
      "15/15 [==============================] - 0s 4ms/step - loss: 1.2902 - accuracy: 0.4179 - val_loss: 1.2654 - val_accuracy: 0.4295\n",
      "Epoch 11/1000\n",
      " 1/15 [=>............................] - ETA: 0s - loss: 1.2972 - accuracy: 0.3672\n",
      "Epoch 11: saving model to model/keypoint_classifier\\keypoint_classifier_mlp.hdf5\n",
      "15/15 [==============================] - 0s 4ms/step - loss: 1.2777 - accuracy: 0.4223 - val_loss: 1.2391 - val_accuracy: 0.4295\n",
      "Epoch 12/1000\n",
      " 1/15 [=>............................] - ETA: 0s - loss: 1.2695 - accuracy: 0.3984\n",
      "Epoch 12: saving model to model/keypoint_classifier\\keypoint_classifier_mlp.hdf5\n",
      "15/15 [==============================] - 0s 3ms/step - loss: 1.2535 - accuracy: 0.4201 - val_loss: 1.2102 - val_accuracy: 0.4295\n",
      "Epoch 13/1000\n",
      " 1/15 [=>............................] - ETA: 0s - loss: 1.1833 - accuracy: 0.4922\n",
      "Epoch 13: saving model to model/keypoint_classifier\\keypoint_classifier_mlp.hdf5\n",
      "15/15 [==============================] - 0s 3ms/step - loss: 1.2411 - accuracy: 0.4212 - val_loss: 1.1882 - val_accuracy: 0.4295\n",
      "Epoch 14/1000\n",
      " 1/15 [=>............................] - ETA: 0s - loss: 1.2771 - accuracy: 0.3594\n",
      "Epoch 14: saving model to model/keypoint_classifier\\keypoint_classifier_mlp.hdf5\n",
      "15/15 [==============================] - 0s 3ms/step - loss: 1.2229 - accuracy: 0.4240 - val_loss: 1.1774 - val_accuracy: 0.4295\n",
      "Epoch 15/1000\n",
      " 1/15 [=>............................] - ETA: 0s - loss: 1.2635 - accuracy: 0.4062\n",
      "Epoch 15: saving model to model/keypoint_classifier\\keypoint_classifier_mlp.hdf5\n",
      "15/15 [==============================] - 0s 3ms/step - loss: 1.2142 - accuracy: 0.4311 - val_loss: 1.1549 - val_accuracy: 0.4295\n",
      "Epoch 16/1000\n",
      " 1/15 [=>............................] - ETA: 0s - loss: 1.2170 - accuracy: 0.4375\n",
      "Epoch 16: saving model to model/keypoint_classifier\\keypoint_classifier_mlp.hdf5\n",
      "15/15 [==============================] - 0s 3ms/step - loss: 1.1972 - accuracy: 0.4426 - val_loss: 1.1272 - val_accuracy: 0.4295\n",
      "Epoch 17/1000\n",
      " 1/15 [=>............................] - ETA: 0s - loss: 1.2257 - accuracy: 0.3984\n",
      "Epoch 17: saving model to model/keypoint_classifier\\keypoint_classifier_mlp.hdf5\n",
      "15/15 [==============================] - 0s 3ms/step - loss: 1.1719 - accuracy: 0.4458 - val_loss: 1.1008 - val_accuracy: 0.4934\n",
      "Epoch 18/1000\n",
      " 1/15 [=>............................] - ETA: 0s - loss: 1.1441 - accuracy: 0.4844\n",
      "Epoch 18: saving model to model/keypoint_classifier\\keypoint_classifier_mlp.hdf5\n",
      "15/15 [==============================] - 0s 3ms/step - loss: 1.1818 - accuracy: 0.4480 - val_loss: 1.0868 - val_accuracy: 0.5131\n",
      "Epoch 19/1000\n",
      " 1/15 [=>............................] - ETA: 0s - loss: 1.1716 - accuracy: 0.4141\n",
      "Epoch 19: saving model to model/keypoint_classifier\\keypoint_classifier_mlp.hdf5\n",
      "15/15 [==============================] - 0s 3ms/step - loss: 1.1488 - accuracy: 0.4519 - val_loss: 1.0740 - val_accuracy: 0.5164\n",
      "Epoch 20/1000\n",
      " 1/15 [=>............................] - ETA: 0s - loss: 1.1421 - accuracy: 0.4297\n",
      "Epoch 20: saving model to model/keypoint_classifier\\keypoint_classifier_mlp.hdf5\n",
      "15/15 [==============================] - 0s 3ms/step - loss: 1.1508 - accuracy: 0.4519 - val_loss: 1.0551 - val_accuracy: 0.5295\n",
      "Epoch 21/1000\n",
      " 1/15 [=>............................] - ETA: 0s - loss: 1.1375 - accuracy: 0.4922\n",
      "Epoch 21: saving model to model/keypoint_classifier\\keypoint_classifier_mlp.hdf5\n",
      "15/15 [==============================] - 0s 4ms/step - loss: 1.1370 - accuracy: 0.4612 - val_loss: 1.0371 - val_accuracy: 0.5295\n",
      "Epoch 22/1000\n",
      " 1/15 [=>............................] - ETA: 0s - loss: 1.1260 - accuracy: 0.5234\n",
      "Epoch 22: saving model to model/keypoint_classifier\\keypoint_classifier_mlp.hdf5\n",
      "15/15 [==============================] - 0s 3ms/step - loss: 1.1302 - accuracy: 0.4644 - val_loss: 1.0209 - val_accuracy: 0.5295\n",
      "Epoch 23/1000\n",
      " 1/15 [=>............................] - ETA: 0s - loss: 1.1219 - accuracy: 0.4688\n",
      "Epoch 23: saving model to model/keypoint_classifier\\keypoint_classifier_mlp.hdf5\n",
      "15/15 [==============================] - 0s 3ms/step - loss: 1.1167 - accuracy: 0.4710 - val_loss: 1.0057 - val_accuracy: 0.5410\n",
      "Epoch 24/1000\n",
      " 1/15 [=>............................] - ETA: 0s - loss: 1.0884 - accuracy: 0.4922\n",
      "Epoch 24: saving model to model/keypoint_classifier\\keypoint_classifier_mlp.hdf5\n",
      "15/15 [==============================] - 0s 4ms/step - loss: 1.0980 - accuracy: 0.4726 - val_loss: 0.9838 - val_accuracy: 0.5607\n",
      "Epoch 25/1000\n",
      " 1/15 [=>............................] - ETA: 0s - loss: 1.0589 - accuracy: 0.5859\n",
      "Epoch 25: saving model to model/keypoint_classifier\\keypoint_classifier_mlp.hdf5\n",
      "15/15 [==============================] - 0s 3ms/step - loss: 1.0943 - accuracy: 0.4929 - val_loss: 0.9632 - val_accuracy: 0.5770\n",
      "Epoch 26/1000\n",
      " 1/15 [=>............................] - ETA: 0s - loss: 1.0414 - accuracy: 0.5391\n",
      "Epoch 26: saving model to model/keypoint_classifier\\keypoint_classifier_mlp.hdf5\n",
      "15/15 [==============================] - 0s 3ms/step - loss: 1.0786 - accuracy: 0.4989 - val_loss: 0.9437 - val_accuracy: 0.5787\n",
      "Epoch 27/1000\n",
      " 1/15 [=>............................] - ETA: 0s - loss: 1.0497 - accuracy: 0.5234\n",
      "Epoch 27: saving model to model/keypoint_classifier\\keypoint_classifier_mlp.hdf5\n",
      "15/15 [==============================] - 0s 3ms/step - loss: 1.0582 - accuracy: 0.5224 - val_loss: 0.9213 - val_accuracy: 0.5951\n"
     ]
    },
    {
     "name": "stdout",
     "output_type": "stream",
     "text": [
      "Epoch 28/1000\n",
      " 1/15 [=>............................] - ETA: 0s - loss: 1.0185 - accuracy: 0.5234\n",
      "Epoch 28: saving model to model/keypoint_classifier\\keypoint_classifier_mlp.hdf5\n",
      "15/15 [==============================] - 0s 3ms/step - loss: 1.0528 - accuracy: 0.5022 - val_loss: 0.9021 - val_accuracy: 0.6049\n",
      "Epoch 29/1000\n",
      " 1/15 [=>............................] - ETA: 0s - loss: 0.9326 - accuracy: 0.6094\n",
      "Epoch 29: saving model to model/keypoint_classifier\\keypoint_classifier_mlp.hdf5\n",
      "15/15 [==============================] - 0s 3ms/step - loss: 1.0332 - accuracy: 0.5235 - val_loss: 0.8847 - val_accuracy: 0.7279\n",
      "Epoch 30/1000\n",
      " 1/15 [=>............................] - ETA: 0s - loss: 1.1515 - accuracy: 0.4688\n",
      "Epoch 30: saving model to model/keypoint_classifier\\keypoint_classifier_mlp.hdf5\n",
      "15/15 [==============================] - 0s 3ms/step - loss: 1.0139 - accuracy: 0.5388 - val_loss: 0.8618 - val_accuracy: 0.7426\n",
      "Epoch 31/1000\n",
      " 1/15 [=>............................] - ETA: 0s - loss: 0.9916 - accuracy: 0.5859\n",
      "Epoch 31: saving model to model/keypoint_classifier\\keypoint_classifier_mlp.hdf5\n",
      "15/15 [==============================] - 0s 3ms/step - loss: 0.9937 - accuracy: 0.5509 - val_loss: 0.8316 - val_accuracy: 0.7492\n",
      "Epoch 32/1000\n",
      " 1/15 [=>............................] - ETA: 0s - loss: 1.0703 - accuracy: 0.5000\n",
      "Epoch 32: saving model to model/keypoint_classifier\\keypoint_classifier_mlp.hdf5\n",
      "15/15 [==============================] - 0s 3ms/step - loss: 0.9853 - accuracy: 0.5470 - val_loss: 0.8248 - val_accuracy: 0.7705\n",
      "Epoch 33/1000\n",
      " 1/15 [=>............................] - ETA: 0s - loss: 0.8825 - accuracy: 0.5781\n",
      "Epoch 33: saving model to model/keypoint_classifier\\keypoint_classifier_mlp.hdf5\n",
      "15/15 [==============================] - 0s 3ms/step - loss: 0.9808 - accuracy: 0.5651 - val_loss: 0.8231 - val_accuracy: 0.7967\n",
      "Epoch 34/1000\n",
      " 1/15 [=>............................] - ETA: 0s - loss: 0.9406 - accuracy: 0.6094\n",
      "Epoch 34: saving model to model/keypoint_classifier\\keypoint_classifier_mlp.hdf5\n",
      "15/15 [==============================] - 0s 3ms/step - loss: 0.9659 - accuracy: 0.5881 - val_loss: 0.7948 - val_accuracy: 0.7951\n",
      "Epoch 35/1000\n",
      " 1/15 [=>............................] - ETA: 0s - loss: 0.9383 - accuracy: 0.6016\n",
      "Epoch 35: saving model to model/keypoint_classifier\\keypoint_classifier_mlp.hdf5\n",
      "15/15 [==============================] - 0s 3ms/step - loss: 0.9442 - accuracy: 0.5957 - val_loss: 0.7752 - val_accuracy: 0.7984\n",
      "Epoch 36/1000\n",
      " 1/15 [=>............................] - ETA: 0s - loss: 0.9660 - accuracy: 0.6016\n",
      "Epoch 36: saving model to model/keypoint_classifier\\keypoint_classifier_mlp.hdf5\n",
      "15/15 [==============================] - 0s 3ms/step - loss: 0.9751 - accuracy: 0.5810 - val_loss: 0.7651 - val_accuracy: 0.8082\n",
      "Epoch 37/1000\n",
      " 1/15 [=>............................] - ETA: 0s - loss: 1.0094 - accuracy: 0.5391\n",
      "Epoch 37: saving model to model/keypoint_classifier\\keypoint_classifier_mlp.hdf5\n",
      "15/15 [==============================] - 0s 3ms/step - loss: 0.9408 - accuracy: 0.5952 - val_loss: 0.7573 - val_accuracy: 0.8230\n",
      "Epoch 38/1000\n",
      " 1/15 [=>............................] - ETA: 0s - loss: 0.9332 - accuracy: 0.6406\n",
      "Epoch 38: saving model to model/keypoint_classifier\\keypoint_classifier_mlp.hdf5\n",
      "15/15 [==============================] - 0s 3ms/step - loss: 0.9352 - accuracy: 0.5968 - val_loss: 0.7462 - val_accuracy: 0.8098\n",
      "Epoch 39/1000\n",
      " 1/15 [=>............................] - ETA: 0s - loss: 0.8665 - accuracy: 0.6172\n",
      "Epoch 39: saving model to model/keypoint_classifier\\keypoint_classifier_mlp.hdf5\n",
      "15/15 [==============================] - 0s 3ms/step - loss: 0.9109 - accuracy: 0.6187 - val_loss: 0.7278 - val_accuracy: 0.8230\n",
      "Epoch 40/1000\n",
      " 1/15 [=>............................] - ETA: 0s - loss: 1.0539 - accuracy: 0.5000\n",
      "Epoch 40: saving model to model/keypoint_classifier\\keypoint_classifier_mlp.hdf5\n",
      "15/15 [==============================] - 0s 3ms/step - loss: 0.9162 - accuracy: 0.6242 - val_loss: 0.7229 - val_accuracy: 0.8328\n",
      "Epoch 41/1000\n",
      " 1/15 [=>............................] - ETA: 0s - loss: 0.9616 - accuracy: 0.6328\n",
      "Epoch 41: saving model to model/keypoint_classifier\\keypoint_classifier_mlp.hdf5\n",
      "15/15 [==============================] - 0s 4ms/step - loss: 0.9054 - accuracy: 0.6165 - val_loss: 0.7069 - val_accuracy: 0.8410\n",
      "Epoch 42/1000\n",
      " 1/15 [=>............................] - ETA: 0s - loss: 0.8818 - accuracy: 0.6094\n",
      "Epoch 42: saving model to model/keypoint_classifier\\keypoint_classifier_mlp.hdf5\n",
      "15/15 [==============================] - 0s 3ms/step - loss: 0.8759 - accuracy: 0.6389 - val_loss: 0.7070 - val_accuracy: 0.8475\n",
      "Epoch 43/1000\n",
      " 1/15 [=>............................] - ETA: 0s - loss: 0.9828 - accuracy: 0.5547\n",
      "Epoch 43: saving model to model/keypoint_classifier\\keypoint_classifier_mlp.hdf5\n",
      "15/15 [==============================] - 0s 3ms/step - loss: 0.8988 - accuracy: 0.6193 - val_loss: 0.6922 - val_accuracy: 0.8443\n",
      "Epoch 44/1000\n",
      " 1/15 [=>............................] - ETA: 0s - loss: 1.0012 - accuracy: 0.5547\n",
      "Epoch 44: saving model to model/keypoint_classifier\\keypoint_classifier_mlp.hdf5\n",
      "15/15 [==============================] - 0s 3ms/step - loss: 0.9139 - accuracy: 0.6182 - val_loss: 0.6914 - val_accuracy: 0.8623\n",
      "Epoch 45/1000\n",
      " 1/15 [=>............................] - ETA: 0s - loss: 0.9983 - accuracy: 0.5781\n",
      "Epoch 45: saving model to model/keypoint_classifier\\keypoint_classifier_mlp.hdf5\n",
      "15/15 [==============================] - 0s 4ms/step - loss: 0.8838 - accuracy: 0.6340 - val_loss: 0.6873 - val_accuracy: 0.8656\n",
      "Epoch 46/1000\n",
      " 1/15 [=>............................] - ETA: 0s - loss: 0.9395 - accuracy: 0.6641\n",
      "Epoch 46: saving model to model/keypoint_classifier\\keypoint_classifier_mlp.hdf5\n",
      "15/15 [==============================] - 0s 3ms/step - loss: 0.8654 - accuracy: 0.6614 - val_loss: 0.6628 - val_accuracy: 0.8607\n",
      "Epoch 47/1000\n",
      " 1/15 [=>............................] - ETA: 0s - loss: 0.7774 - accuracy: 0.6875\n",
      "Epoch 47: saving model to model/keypoint_classifier\\keypoint_classifier_mlp.hdf5\n",
      "15/15 [==============================] - 0s 3ms/step - loss: 0.8786 - accuracy: 0.6247 - val_loss: 0.6515 - val_accuracy: 0.8656\n",
      "Epoch 48/1000\n",
      " 1/15 [=>............................] - ETA: 0s - loss: 0.8649 - accuracy: 0.6719\n",
      "Epoch 48: saving model to model/keypoint_classifier\\keypoint_classifier_mlp.hdf5\n",
      "15/15 [==============================] - 0s 3ms/step - loss: 0.8779 - accuracy: 0.6433 - val_loss: 0.6496 - val_accuracy: 0.8689\n",
      "Epoch 49/1000\n",
      " 1/15 [=>............................] - ETA: 0s - loss: 0.8332 - accuracy: 0.6484\n",
      "Epoch 49: saving model to model/keypoint_classifier\\keypoint_classifier_mlp.hdf5\n",
      "15/15 [==============================] - 0s 3ms/step - loss: 0.8672 - accuracy: 0.6411 - val_loss: 0.6430 - val_accuracy: 0.8689\n",
      "Epoch 50/1000\n",
      " 1/15 [=>............................] - ETA: 0s - loss: 0.8081 - accuracy: 0.6875\n",
      "Epoch 50: saving model to model/keypoint_classifier\\keypoint_classifier_mlp.hdf5\n",
      "15/15 [==============================] - 0s 3ms/step - loss: 0.8680 - accuracy: 0.6439 - val_loss: 0.6539 - val_accuracy: 0.8820\n",
      "Epoch 51/1000\n",
      " 1/15 [=>............................] - ETA: 0s - loss: 0.8502 - accuracy: 0.6562\n",
      "Epoch 51: saving model to model/keypoint_classifier\\keypoint_classifier_mlp.hdf5\n",
      "15/15 [==============================] - 0s 3ms/step - loss: 0.8500 - accuracy: 0.6565 - val_loss: 0.6386 - val_accuracy: 0.8918\n",
      "Epoch 52/1000\n",
      " 1/15 [=>............................] - ETA: 0s - loss: 0.8289 - accuracy: 0.6484\n",
      "Epoch 52: saving model to model/keypoint_classifier\\keypoint_classifier_mlp.hdf5\n",
      "15/15 [==============================] - 0s 3ms/step - loss: 0.8578 - accuracy: 0.6428 - val_loss: 0.6150 - val_accuracy: 0.8787\n",
      "Epoch 53/1000\n",
      " 1/15 [=>............................] - ETA: 0s - loss: 0.8562 - accuracy: 0.6562\n",
      "Epoch 53: saving model to model/keypoint_classifier\\keypoint_classifier_mlp.hdf5\n",
      "15/15 [==============================] - 0s 3ms/step - loss: 0.8303 - accuracy: 0.6630 - val_loss: 0.6243 - val_accuracy: 0.8902\n",
      "Epoch 54/1000\n",
      " 1/15 [=>............................] - ETA: 0s - loss: 1.0426 - accuracy: 0.6094\n",
      "Epoch 54: saving model to model/keypoint_classifier\\keypoint_classifier_mlp.hdf5\n",
      "15/15 [==============================] - 0s 3ms/step - loss: 0.8336 - accuracy: 0.6696 - val_loss: 0.6176 - val_accuracy: 0.8951\n"
     ]
    },
    {
     "name": "stdout",
     "output_type": "stream",
     "text": [
      "Epoch 55/1000\n",
      " 1/15 [=>............................] - ETA: 0s - loss: 0.9772 - accuracy: 0.5859\n",
      "Epoch 55: saving model to model/keypoint_classifier\\keypoint_classifier_mlp.hdf5\n",
      "15/15 [==============================] - 0s 3ms/step - loss: 0.8213 - accuracy: 0.6827 - val_loss: 0.5963 - val_accuracy: 0.8967\n",
      "Epoch 56/1000\n",
      " 1/15 [=>............................] - ETA: 0s - loss: 0.7420 - accuracy: 0.7422\n",
      "Epoch 56: saving model to model/keypoint_classifier\\keypoint_classifier_mlp.hdf5\n",
      "15/15 [==============================] - 0s 3ms/step - loss: 0.8224 - accuracy: 0.6668 - val_loss: 0.6076 - val_accuracy: 0.8967\n",
      "Epoch 57/1000\n",
      " 1/15 [=>............................] - ETA: 0s - loss: 0.8098 - accuracy: 0.6719\n",
      "Epoch 57: saving model to model/keypoint_classifier\\keypoint_classifier_mlp.hdf5\n",
      "15/15 [==============================] - 0s 3ms/step - loss: 0.8156 - accuracy: 0.6712 - val_loss: 0.5928 - val_accuracy: 0.9016\n",
      "Epoch 58/1000\n",
      " 1/15 [=>............................] - ETA: 0s - loss: 0.9310 - accuracy: 0.6484\n",
      "Epoch 58: saving model to model/keypoint_classifier\\keypoint_classifier_mlp.hdf5\n",
      "15/15 [==============================] - 0s 3ms/step - loss: 0.8278 - accuracy: 0.6532 - val_loss: 0.5895 - val_accuracy: 0.9000\n",
      "Epoch 59/1000\n",
      " 1/15 [=>............................] - ETA: 0s - loss: 0.7341 - accuracy: 0.7422\n",
      "Epoch 59: saving model to model/keypoint_classifier\\keypoint_classifier_mlp.hdf5\n",
      "15/15 [==============================] - 0s 3ms/step - loss: 0.7977 - accuracy: 0.6931 - val_loss: 0.5682 - val_accuracy: 0.9000\n",
      "Epoch 60/1000\n",
      " 1/15 [=>............................] - ETA: 0s - loss: 0.6859 - accuracy: 0.7266\n",
      "Epoch 60: saving model to model/keypoint_classifier\\keypoint_classifier_mlp.hdf5\n",
      "15/15 [==============================] - 0s 3ms/step - loss: 0.8185 - accuracy: 0.6701 - val_loss: 0.5837 - val_accuracy: 0.9033\n",
      "Epoch 61/1000\n",
      " 1/15 [=>............................] - ETA: 0s - loss: 0.7861 - accuracy: 0.6953\n",
      "Epoch 61: saving model to model/keypoint_classifier\\keypoint_classifier_mlp.hdf5\n",
      "15/15 [==============================] - 0s 3ms/step - loss: 0.8022 - accuracy: 0.6986 - val_loss: 0.5528 - val_accuracy: 0.9016\n",
      "Epoch 62/1000\n",
      " 1/15 [=>............................] - ETA: 0s - loss: 0.7226 - accuracy: 0.7500\n",
      "Epoch 62: saving model to model/keypoint_classifier\\keypoint_classifier_mlp.hdf5\n",
      "15/15 [==============================] - 0s 3ms/step - loss: 0.7981 - accuracy: 0.6898 - val_loss: 0.5759 - val_accuracy: 0.9000\n",
      "Epoch 63/1000\n",
      " 1/15 [=>............................] - ETA: 0s - loss: 0.8248 - accuracy: 0.7031\n",
      "Epoch 63: saving model to model/keypoint_classifier\\keypoint_classifier_mlp.hdf5\n",
      "15/15 [==============================] - 0s 3ms/step - loss: 0.8158 - accuracy: 0.6767 - val_loss: 0.5679 - val_accuracy: 0.9049\n",
      "Epoch 64/1000\n",
      " 1/15 [=>............................] - ETA: 0s - loss: 0.8756 - accuracy: 0.6875\n",
      "Epoch 64: saving model to model/keypoint_classifier\\keypoint_classifier_mlp.hdf5\n",
      "15/15 [==============================] - 0s 3ms/step - loss: 0.7963 - accuracy: 0.6783 - val_loss: 0.5572 - val_accuracy: 0.9016\n",
      "Epoch 65/1000\n",
      " 1/15 [=>............................] - ETA: 0s - loss: 0.8352 - accuracy: 0.6797\n",
      "Epoch 65: saving model to model/keypoint_classifier\\keypoint_classifier_mlp.hdf5\n",
      "15/15 [==============================] - 0s 3ms/step - loss: 0.7950 - accuracy: 0.6767 - val_loss: 0.5443 - val_accuracy: 0.9016\n",
      "Epoch 66/1000\n",
      " 1/15 [=>............................] - ETA: 0s - loss: 0.8277 - accuracy: 0.6875\n",
      "Epoch 66: saving model to model/keypoint_classifier\\keypoint_classifier_mlp.hdf5\n",
      "15/15 [==============================] - 0s 3ms/step - loss: 0.7992 - accuracy: 0.6794 - val_loss: 0.5639 - val_accuracy: 0.9098\n",
      "Epoch 67/1000\n",
      " 1/15 [=>............................] - ETA: 0s - loss: 0.7459 - accuracy: 0.7031\n",
      "Epoch 67: saving model to model/keypoint_classifier\\keypoint_classifier_mlp.hdf5\n",
      "15/15 [==============================] - 0s 3ms/step - loss: 0.7837 - accuracy: 0.7019 - val_loss: 0.5477 - val_accuracy: 0.9033\n",
      "Epoch 68/1000\n",
      " 1/15 [=>............................] - ETA: 0s - loss: 0.7383 - accuracy: 0.6484\n",
      "Epoch 68: saving model to model/keypoint_classifier\\keypoint_classifier_mlp.hdf5\n",
      "15/15 [==============================] - 0s 3ms/step - loss: 0.7786 - accuracy: 0.6991 - val_loss: 0.5504 - val_accuracy: 0.9115\n",
      "Epoch 69/1000\n",
      " 1/15 [=>............................] - ETA: 0s - loss: 0.7974 - accuracy: 0.6562\n",
      "Epoch 69: saving model to model/keypoint_classifier\\keypoint_classifier_mlp.hdf5\n",
      "15/15 [==============================] - 0s 3ms/step - loss: 0.7732 - accuracy: 0.7040 - val_loss: 0.5196 - val_accuracy: 0.9033\n",
      "Epoch 70/1000\n",
      " 1/15 [=>............................] - ETA: 0s - loss: 0.8427 - accuracy: 0.6484\n",
      "Epoch 70: saving model to model/keypoint_classifier\\keypoint_classifier_mlp.hdf5\n",
      "15/15 [==============================] - 0s 3ms/step - loss: 0.7795 - accuracy: 0.6937 - val_loss: 0.5366 - val_accuracy: 0.9049\n",
      "Epoch 71/1000\n",
      " 1/15 [=>............................] - ETA: 0s - loss: 0.8342 - accuracy: 0.6406\n",
      "Epoch 71: saving model to model/keypoint_classifier\\keypoint_classifier_mlp.hdf5\n",
      "15/15 [==============================] - 0s 3ms/step - loss: 0.7843 - accuracy: 0.6800 - val_loss: 0.5385 - val_accuracy: 0.9098\n",
      "Epoch 72/1000\n",
      " 1/15 [=>............................] - ETA: 0s - loss: 0.8110 - accuracy: 0.6641\n",
      "Epoch 72: saving model to model/keypoint_classifier\\keypoint_classifier_mlp.hdf5\n",
      "15/15 [==============================] - 0s 3ms/step - loss: 0.7799 - accuracy: 0.6964 - val_loss: 0.5246 - val_accuracy: 0.9098\n",
      "Epoch 73/1000\n",
      " 1/15 [=>............................] - ETA: 0s - loss: 0.8012 - accuracy: 0.7031\n",
      "Epoch 73: saving model to model/keypoint_classifier\\keypoint_classifier_mlp.hdf5\n",
      "15/15 [==============================] - 0s 3ms/step - loss: 0.7709 - accuracy: 0.6871 - val_loss: 0.5332 - val_accuracy: 0.9115\n",
      "Epoch 74/1000\n",
      " 1/15 [=>............................] - ETA: 0s - loss: 0.7873 - accuracy: 0.6875\n",
      "Epoch 74: saving model to model/keypoint_classifier\\keypoint_classifier_mlp.hdf5\n",
      "15/15 [==============================] - 0s 3ms/step - loss: 0.7469 - accuracy: 0.7112 - val_loss: 0.5232 - val_accuracy: 0.9066\n",
      "Epoch 75/1000\n",
      " 1/15 [=>............................] - ETA: 0s - loss: 0.7472 - accuracy: 0.6641\n",
      "Epoch 75: saving model to model/keypoint_classifier\\keypoint_classifier_mlp.hdf5\n",
      "15/15 [==============================] - 0s 3ms/step - loss: 0.7488 - accuracy: 0.6980 - val_loss: 0.5376 - val_accuracy: 0.9148\n",
      "Epoch 76/1000\n",
      " 1/15 [=>............................] - ETA: 0s - loss: 0.7339 - accuracy: 0.7188\n",
      "Epoch 76: saving model to model/keypoint_classifier\\keypoint_classifier_mlp.hdf5\n",
      "15/15 [==============================] - 0s 3ms/step - loss: 0.7697 - accuracy: 0.6931 - val_loss: 0.5244 - val_accuracy: 0.9098\n",
      "Epoch 77/1000\n",
      " 1/15 [=>............................] - ETA: 0s - loss: 0.7270 - accuracy: 0.6641\n",
      "Epoch 77: saving model to model/keypoint_classifier\\keypoint_classifier_mlp.hdf5\n",
      "15/15 [==============================] - 0s 4ms/step - loss: 0.7430 - accuracy: 0.7035 - val_loss: 0.5155 - val_accuracy: 0.9066\n",
      "Epoch 78/1000\n",
      " 1/15 [=>............................] - ETA: 0s - loss: 0.8223 - accuracy: 0.6328\n",
      "Epoch 78: saving model to model/keypoint_classifier\\keypoint_classifier_mlp.hdf5\n",
      "15/15 [==============================] - 0s 4ms/step - loss: 0.7451 - accuracy: 0.7068 - val_loss: 0.5186 - val_accuracy: 0.9148\n",
      "Epoch 79/1000\n",
      " 1/15 [=>............................] - ETA: 0s - loss: 0.6551 - accuracy: 0.7422\n",
      "Epoch 79: saving model to model/keypoint_classifier\\keypoint_classifier_mlp.hdf5\n",
      "15/15 [==============================] - 0s 3ms/step - loss: 0.7503 - accuracy: 0.7090 - val_loss: 0.5110 - val_accuracy: 0.9180\n",
      "Epoch 80/1000\n",
      " 1/15 [=>............................] - ETA: 0s - loss: 0.7142 - accuracy: 0.7344\n",
      "Epoch 80: saving model to model/keypoint_classifier\\keypoint_classifier_mlp.hdf5\n",
      "15/15 [==============================] - 0s 3ms/step - loss: 0.7268 - accuracy: 0.7276 - val_loss: 0.4984 - val_accuracy: 0.9131\n",
      "Epoch 81/1000\n",
      " 1/15 [=>............................] - ETA: 0s - loss: 0.7273 - accuracy: 0.7109\n",
      "Epoch 81: saving model to model/keypoint_classifier\\keypoint_classifier_mlp.hdf5\n",
      "15/15 [==============================] - 0s 3ms/step - loss: 0.7542 - accuracy: 0.7013 - val_loss: 0.5178 - val_accuracy: 0.9115\n"
     ]
    },
    {
     "name": "stdout",
     "output_type": "stream",
     "text": [
      "Epoch 82/1000\n",
      " 1/15 [=>............................] - ETA: 0s - loss: 0.6993 - accuracy: 0.7578\n",
      "Epoch 82: saving model to model/keypoint_classifier\\keypoint_classifier_mlp.hdf5\n",
      "15/15 [==============================] - 0s 3ms/step - loss: 0.7410 - accuracy: 0.7166 - val_loss: 0.4960 - val_accuracy: 0.9164\n",
      "Epoch 83/1000\n",
      " 1/15 [=>............................] - ETA: 0s - loss: 0.7239 - accuracy: 0.7344\n",
      "Epoch 83: saving model to model/keypoint_classifier\\keypoint_classifier_mlp.hdf5\n",
      "15/15 [==============================] - 0s 4ms/step - loss: 0.7446 - accuracy: 0.7101 - val_loss: 0.4907 - val_accuracy: 0.9148\n",
      "Epoch 84/1000\n",
      " 1/15 [=>............................] - ETA: 0s - loss: 0.7833 - accuracy: 0.7188\n",
      "Epoch 84: saving model to model/keypoint_classifier\\keypoint_classifier_mlp.hdf5\n",
      "15/15 [==============================] - 0s 4ms/step - loss: 0.7518 - accuracy: 0.7155 - val_loss: 0.5035 - val_accuracy: 0.9148\n",
      "Epoch 85/1000\n",
      " 1/15 [=>............................] - ETA: 0s - loss: 0.9104 - accuracy: 0.6719\n",
      "Epoch 85: saving model to model/keypoint_classifier\\keypoint_classifier_mlp.hdf5\n",
      "15/15 [==============================] - 0s 3ms/step - loss: 0.7429 - accuracy: 0.7133 - val_loss: 0.4994 - val_accuracy: 0.9148\n",
      "Epoch 86/1000\n",
      " 1/15 [=>............................] - ETA: 0s - loss: 0.8266 - accuracy: 0.7109\n",
      "Epoch 86: saving model to model/keypoint_classifier\\keypoint_classifier_mlp.hdf5\n",
      "15/15 [==============================] - 0s 3ms/step - loss: 0.7455 - accuracy: 0.6980 - val_loss: 0.4901 - val_accuracy: 0.9148\n",
      "Epoch 87/1000\n",
      " 1/15 [=>............................] - ETA: 0s - loss: 0.7896 - accuracy: 0.6719\n",
      "Epoch 87: saving model to model/keypoint_classifier\\keypoint_classifier_mlp.hdf5\n",
      "15/15 [==============================] - 0s 4ms/step - loss: 0.7460 - accuracy: 0.7106 - val_loss: 0.5149 - val_accuracy: 0.9131\n",
      "Epoch 88/1000\n",
      " 1/15 [=>............................] - ETA: 0s - loss: 0.6774 - accuracy: 0.7422\n",
      "Epoch 88: saving model to model/keypoint_classifier\\keypoint_classifier_mlp.hdf5\n",
      "15/15 [==============================] - 0s 3ms/step - loss: 0.7494 - accuracy: 0.7090 - val_loss: 0.5049 - val_accuracy: 0.9115\n",
      "Epoch 89/1000\n",
      " 1/15 [=>............................] - ETA: 0s - loss: 0.6845 - accuracy: 0.7188\n",
      "Epoch 89: saving model to model/keypoint_classifier\\keypoint_classifier_mlp.hdf5\n",
      "15/15 [==============================] - 0s 3ms/step - loss: 0.7258 - accuracy: 0.7144 - val_loss: 0.5185 - val_accuracy: 0.9049\n",
      "Epoch 90/1000\n",
      " 1/15 [=>............................] - ETA: 0s - loss: 0.8736 - accuracy: 0.6172\n",
      "Epoch 90: saving model to model/keypoint_classifier\\keypoint_classifier_mlp.hdf5\n",
      "15/15 [==============================] - 0s 3ms/step - loss: 0.7449 - accuracy: 0.7112 - val_loss: 0.4758 - val_accuracy: 0.9213\n",
      "Epoch 91/1000\n",
      " 1/15 [=>............................] - ETA: 0s - loss: 0.7564 - accuracy: 0.7109\n",
      "Epoch 91: saving model to model/keypoint_classifier\\keypoint_classifier_mlp.hdf5\n",
      "15/15 [==============================] - 0s 3ms/step - loss: 0.7215 - accuracy: 0.7298 - val_loss: 0.4707 - val_accuracy: 0.9180\n",
      "Epoch 92/1000\n",
      " 1/15 [=>............................] - ETA: 0s - loss: 0.6841 - accuracy: 0.7578\n",
      "Epoch 92: saving model to model/keypoint_classifier\\keypoint_classifier_mlp.hdf5\n",
      "15/15 [==============================] - 0s 3ms/step - loss: 0.7213 - accuracy: 0.7303 - val_loss: 0.4891 - val_accuracy: 0.9148\n",
      "Epoch 93/1000\n",
      " 1/15 [=>............................] - ETA: 0s - loss: 0.6580 - accuracy: 0.7812\n",
      "Epoch 93: saving model to model/keypoint_classifier\\keypoint_classifier_mlp.hdf5\n",
      "15/15 [==============================] - 0s 3ms/step - loss: 0.7182 - accuracy: 0.7161 - val_loss: 0.4765 - val_accuracy: 0.9148\n",
      "Epoch 94/1000\n",
      " 1/15 [=>............................] - ETA: 0s - loss: 0.7529 - accuracy: 0.7344\n",
      "Epoch 94: saving model to model/keypoint_classifier\\keypoint_classifier_mlp.hdf5\n",
      "15/15 [==============================] - 0s 3ms/step - loss: 0.7076 - accuracy: 0.7352 - val_loss: 0.4952 - val_accuracy: 0.9180\n",
      "Epoch 95/1000\n",
      " 1/15 [=>............................] - ETA: 0s - loss: 0.8414 - accuracy: 0.6719\n",
      "Epoch 95: saving model to model/keypoint_classifier\\keypoint_classifier_mlp.hdf5\n",
      "15/15 [==============================] - 0s 3ms/step - loss: 0.7215 - accuracy: 0.7276 - val_loss: 0.4881 - val_accuracy: 0.9164\n",
      "Epoch 96/1000\n",
      " 1/15 [=>............................] - ETA: 0s - loss: 0.8017 - accuracy: 0.6484\n",
      "Epoch 96: saving model to model/keypoint_classifier\\keypoint_classifier_mlp.hdf5\n",
      "15/15 [==============================] - 0s 3ms/step - loss: 0.7320 - accuracy: 0.7183 - val_loss: 0.4826 - val_accuracy: 0.9148\n",
      "Epoch 97/1000\n",
      " 1/15 [=>............................] - ETA: 0s - loss: 0.7010 - accuracy: 0.7734\n",
      "Epoch 97: saving model to model/keypoint_classifier\\keypoint_classifier_mlp.hdf5\n",
      "15/15 [==============================] - 0s 3ms/step - loss: 0.7355 - accuracy: 0.7281 - val_loss: 0.4722 - val_accuracy: 0.9148\n",
      "Epoch 98/1000\n",
      " 1/15 [=>............................] - ETA: 0s - loss: 0.8074 - accuracy: 0.6875\n",
      "Epoch 98: saving model to model/keypoint_classifier\\keypoint_classifier_mlp.hdf5\n",
      "15/15 [==============================] - 0s 3ms/step - loss: 0.7393 - accuracy: 0.7161 - val_loss: 0.4950 - val_accuracy: 0.9148\n",
      "Epoch 99/1000\n",
      " 1/15 [=>............................] - ETA: 0s - loss: 0.7591 - accuracy: 0.7109\n",
      "Epoch 99: saving model to model/keypoint_classifier\\keypoint_classifier_mlp.hdf5\n",
      "15/15 [==============================] - 0s 3ms/step - loss: 0.7223 - accuracy: 0.7292 - val_loss: 0.4767 - val_accuracy: 0.9131\n",
      "Epoch 100/1000\n",
      " 1/15 [=>............................] - ETA: 0s - loss: 0.7850 - accuracy: 0.7109\n",
      "Epoch 100: saving model to model/keypoint_classifier\\keypoint_classifier_mlp.hdf5\n",
      "15/15 [==============================] - 0s 4ms/step - loss: 0.6997 - accuracy: 0.7363 - val_loss: 0.4785 - val_accuracy: 0.9180\n",
      "Epoch 101/1000\n",
      " 1/15 [=>............................] - ETA: 0s - loss: 0.6605 - accuracy: 0.7344\n",
      "Epoch 101: saving model to model/keypoint_classifier\\keypoint_classifier_mlp.hdf5\n",
      "15/15 [==============================] - 0s 4ms/step - loss: 0.7316 - accuracy: 0.7243 - val_loss: 0.4770 - val_accuracy: 0.9115\n",
      "Epoch 102/1000\n",
      " 1/15 [=>............................] - ETA: 0s - loss: 0.6594 - accuracy: 0.7656\n",
      "Epoch 102: saving model to model/keypoint_classifier\\keypoint_classifier_mlp.hdf5\n",
      "15/15 [==============================] - 0s 3ms/step - loss: 0.6817 - accuracy: 0.7478 - val_loss: 0.4740 - val_accuracy: 0.9164\n",
      "Epoch 103/1000\n",
      " 1/15 [=>............................] - ETA: 0s - loss: 0.7220 - accuracy: 0.7031\n",
      "Epoch 103: saving model to model/keypoint_classifier\\keypoint_classifier_mlp.hdf5\n",
      "15/15 [==============================] - 0s 3ms/step - loss: 0.6949 - accuracy: 0.7429 - val_loss: 0.4679 - val_accuracy: 0.9148\n",
      "Epoch 104/1000\n",
      " 1/15 [=>............................] - ETA: 0s - loss: 0.8709 - accuracy: 0.6562\n",
      "Epoch 104: saving model to model/keypoint_classifier\\keypoint_classifier_mlp.hdf5\n",
      "15/15 [==============================] - 0s 3ms/step - loss: 0.7003 - accuracy: 0.7287 - val_loss: 0.4456 - val_accuracy: 0.9180\n",
      "Epoch 105/1000\n",
      " 1/15 [=>............................] - ETA: 0s - loss: 0.6653 - accuracy: 0.7578\n",
      "Epoch 105: saving model to model/keypoint_classifier\\keypoint_classifier_mlp.hdf5\n",
      "15/15 [==============================] - 0s 3ms/step - loss: 0.6864 - accuracy: 0.7314 - val_loss: 0.4473 - val_accuracy: 0.9164\n",
      "Epoch 106/1000\n",
      " 1/15 [=>............................] - ETA: 0s - loss: 0.6381 - accuracy: 0.7891\n",
      "Epoch 106: saving model to model/keypoint_classifier\\keypoint_classifier_mlp.hdf5\n",
      "15/15 [==============================] - 0s 3ms/step - loss: 0.7232 - accuracy: 0.7303 - val_loss: 0.4640 - val_accuracy: 0.9164\n",
      "Epoch 107/1000\n",
      " 1/15 [=>............................] - ETA: 0s - loss: 0.7932 - accuracy: 0.6641\n",
      "Epoch 107: saving model to model/keypoint_classifier\\keypoint_classifier_mlp.hdf5\n",
      "15/15 [==============================] - 0s 3ms/step - loss: 0.7166 - accuracy: 0.7216 - val_loss: 0.4457 - val_accuracy: 0.9180\n",
      "Epoch 108/1000\n",
      " 1/15 [=>............................] - ETA: 0s - loss: 0.6062 - accuracy: 0.7422\n",
      "Epoch 108: saving model to model/keypoint_classifier\\keypoint_classifier_mlp.hdf5\n",
      "15/15 [==============================] - 0s 3ms/step - loss: 0.6761 - accuracy: 0.7407 - val_loss: 0.4514 - val_accuracy: 0.9164\n"
     ]
    },
    {
     "name": "stdout",
     "output_type": "stream",
     "text": [
      "Epoch 109/1000\n",
      " 1/15 [=>............................] - ETA: 0s - loss: 0.6759 - accuracy: 0.7422\n",
      "Epoch 109: saving model to model/keypoint_classifier\\keypoint_classifier_mlp.hdf5\n",
      "15/15 [==============================] - 0s 3ms/step - loss: 0.7199 - accuracy: 0.7177 - val_loss: 0.4653 - val_accuracy: 0.9213\n",
      "Epoch 110/1000\n",
      " 1/15 [=>............................] - ETA: 0s - loss: 0.6830 - accuracy: 0.7422\n",
      "Epoch 110: saving model to model/keypoint_classifier\\keypoint_classifier_mlp.hdf5\n",
      "15/15 [==============================] - 0s 3ms/step - loss: 0.6961 - accuracy: 0.7358 - val_loss: 0.4730 - val_accuracy: 0.9148\n",
      "Epoch 111/1000\n",
      " 1/15 [=>............................] - ETA: 0s - loss: 0.6390 - accuracy: 0.7500\n",
      "Epoch 111: saving model to model/keypoint_classifier\\keypoint_classifier_mlp.hdf5\n",
      "15/15 [==============================] - 0s 3ms/step - loss: 0.6744 - accuracy: 0.7560 - val_loss: 0.4531 - val_accuracy: 0.9180\n",
      "Epoch 112/1000\n",
      " 1/15 [=>............................] - ETA: 0s - loss: 0.7336 - accuracy: 0.7344\n",
      "Epoch 112: saving model to model/keypoint_classifier\\keypoint_classifier_mlp.hdf5\n",
      "15/15 [==============================] - 0s 3ms/step - loss: 0.6854 - accuracy: 0.7412 - val_loss: 0.4584 - val_accuracy: 0.9148\n",
      "Epoch 113/1000\n",
      " 1/15 [=>............................] - ETA: 0s - loss: 0.7593 - accuracy: 0.7031\n",
      "Epoch 113: saving model to model/keypoint_classifier\\keypoint_classifier_mlp.hdf5\n",
      "15/15 [==============================] - 0s 3ms/step - loss: 0.7099 - accuracy: 0.7358 - val_loss: 0.4777 - val_accuracy: 0.9082\n",
      "Epoch 114/1000\n",
      " 1/15 [=>............................] - ETA: 0s - loss: 0.6805 - accuracy: 0.7656\n",
      "Epoch 114: saving model to model/keypoint_classifier\\keypoint_classifier_mlp.hdf5\n",
      "15/15 [==============================] - 0s 3ms/step - loss: 0.6807 - accuracy: 0.7500 - val_loss: 0.4409 - val_accuracy: 0.9131\n",
      "Epoch 115/1000\n",
      " 1/15 [=>............................] - ETA: 0s - loss: 0.6706 - accuracy: 0.7266\n",
      "Epoch 115: saving model to model/keypoint_classifier\\keypoint_classifier_mlp.hdf5\n",
      "15/15 [==============================] - 0s 3ms/step - loss: 0.6896 - accuracy: 0.7385 - val_loss: 0.4543 - val_accuracy: 0.9148\n",
      "Epoch 116/1000\n",
      " 1/15 [=>............................] - ETA: 0s - loss: 0.6918 - accuracy: 0.7500\n",
      "Epoch 116: saving model to model/keypoint_classifier\\keypoint_classifier_mlp.hdf5\n",
      "15/15 [==============================] - 0s 3ms/step - loss: 0.6938 - accuracy: 0.7265 - val_loss: 0.4463 - val_accuracy: 0.9164\n",
      "Epoch 117/1000\n",
      " 1/15 [=>............................] - ETA: 0s - loss: 0.7527 - accuracy: 0.6797\n",
      "Epoch 117: saving model to model/keypoint_classifier\\keypoint_classifier_mlp.hdf5\n",
      "15/15 [==============================] - 0s 3ms/step - loss: 0.6917 - accuracy: 0.7407 - val_loss: 0.4640 - val_accuracy: 0.9164\n",
      "Epoch 118/1000\n",
      " 1/15 [=>............................] - ETA: 0s - loss: 0.7457 - accuracy: 0.7031\n",
      "Epoch 118: saving model to model/keypoint_classifier\\keypoint_classifier_mlp.hdf5\n",
      "15/15 [==============================] - 0s 4ms/step - loss: 0.6928 - accuracy: 0.7440 - val_loss: 0.4575 - val_accuracy: 0.9148\n",
      "Epoch 119/1000\n",
      " 1/15 [=>............................] - ETA: 0s - loss: 0.6141 - accuracy: 0.7734\n",
      "Epoch 119: saving model to model/keypoint_classifier\\keypoint_classifier_mlp.hdf5\n",
      "15/15 [==============================] - 0s 3ms/step - loss: 0.6825 - accuracy: 0.7363 - val_loss: 0.4667 - val_accuracy: 0.9148\n",
      "Epoch 120/1000\n",
      " 1/15 [=>............................] - ETA: 0s - loss: 0.7637 - accuracy: 0.6797\n",
      "Epoch 120: saving model to model/keypoint_classifier\\keypoint_classifier_mlp.hdf5\n",
      "15/15 [==============================] - 0s 4ms/step - loss: 0.6751 - accuracy: 0.7500 - val_loss: 0.4616 - val_accuracy: 0.9164\n",
      "Epoch 121/1000\n",
      " 1/15 [=>............................] - ETA: 0s - loss: 0.7518 - accuracy: 0.7188\n",
      "Epoch 121: saving model to model/keypoint_classifier\\keypoint_classifier_mlp.hdf5\n",
      "15/15 [==============================] - 0s 3ms/step - loss: 0.6775 - accuracy: 0.7533 - val_loss: 0.4703 - val_accuracy: 0.9082\n",
      "Epoch 122/1000\n",
      " 1/15 [=>............................] - ETA: 0s - loss: 0.6092 - accuracy: 0.7812\n",
      "Epoch 122: saving model to model/keypoint_classifier\\keypoint_classifier_mlp.hdf5\n",
      "15/15 [==============================] - 0s 3ms/step - loss: 0.6806 - accuracy: 0.7598 - val_loss: 0.4452 - val_accuracy: 0.9098\n",
      "Epoch 123/1000\n",
      " 1/15 [=>............................] - ETA: 0s - loss: 0.7438 - accuracy: 0.7656\n",
      "Epoch 123: saving model to model/keypoint_classifier\\keypoint_classifier_mlp.hdf5\n",
      "15/15 [==============================] - 0s 3ms/step - loss: 0.6521 - accuracy: 0.7686 - val_loss: 0.4392 - val_accuracy: 0.9115\n",
      "Epoch 124/1000\n",
      " 1/15 [=>............................] - ETA: 0s - loss: 0.5487 - accuracy: 0.8516\n",
      "Epoch 124: saving model to model/keypoint_classifier\\keypoint_classifier_mlp.hdf5\n",
      "15/15 [==============================] - 0s 3ms/step - loss: 0.6616 - accuracy: 0.7571 - val_loss: 0.4505 - val_accuracy: 0.9115\n",
      "Epoch 125/1000\n",
      " 1/15 [=>............................] - ETA: 0s - loss: 0.7103 - accuracy: 0.7344\n",
      "Epoch 125: saving model to model/keypoint_classifier\\keypoint_classifier_mlp.hdf5\n",
      "15/15 [==============================] - 0s 3ms/step - loss: 0.6880 - accuracy: 0.7298 - val_loss: 0.4535 - val_accuracy: 0.8934\n",
      "Epoch 126/1000\n",
      " 1/15 [=>............................] - ETA: 0s - loss: 0.7070 - accuracy: 0.7734\n",
      "Epoch 126: saving model to model/keypoint_classifier\\keypoint_classifier_mlp.hdf5\n",
      "15/15 [==============================] - 0s 3ms/step - loss: 0.6667 - accuracy: 0.7588 - val_loss: 0.4398 - val_accuracy: 0.9066\n",
      "Epoch 127/1000\n",
      " 1/15 [=>............................] - ETA: 0s - loss: 0.8152 - accuracy: 0.6797\n",
      "Epoch 127: saving model to model/keypoint_classifier\\keypoint_classifier_mlp.hdf5\n",
      "15/15 [==============================] - 0s 3ms/step - loss: 0.6559 - accuracy: 0.7675 - val_loss: 0.4285 - val_accuracy: 0.9164\n",
      "Epoch 128/1000\n",
      " 1/15 [=>............................] - ETA: 0s - loss: 0.6454 - accuracy: 0.7031\n",
      "Epoch 128: saving model to model/keypoint_classifier\\keypoint_classifier_mlp.hdf5\n",
      "15/15 [==============================] - 0s 4ms/step - loss: 0.6590 - accuracy: 0.7588 - val_loss: 0.4594 - val_accuracy: 0.8951\n",
      "Epoch 129/1000\n",
      " 1/15 [=>............................] - ETA: 0s - loss: 0.6755 - accuracy: 0.7969\n",
      "Epoch 129: saving model to model/keypoint_classifier\\keypoint_classifier_mlp.hdf5\n",
      "15/15 [==============================] - 0s 4ms/step - loss: 0.6675 - accuracy: 0.7560 - val_loss: 0.4689 - val_accuracy: 0.8803\n",
      "Epoch 130/1000\n",
      " 1/15 [=>............................] - ETA: 0s - loss: 0.6248 - accuracy: 0.7500\n",
      "Epoch 130: saving model to model/keypoint_classifier\\keypoint_classifier_mlp.hdf5\n",
      "15/15 [==============================] - 0s 3ms/step - loss: 0.6499 - accuracy: 0.7588 - val_loss: 0.4423 - val_accuracy: 0.9098\n",
      "Epoch 131/1000\n",
      " 1/15 [=>............................] - ETA: 0s - loss: 0.6686 - accuracy: 0.7812\n",
      "Epoch 131: saving model to model/keypoint_classifier\\keypoint_classifier_mlp.hdf5\n",
      "15/15 [==============================] - 0s 4ms/step - loss: 0.6532 - accuracy: 0.7664 - val_loss: 0.4446 - val_accuracy: 0.9115\n",
      "Epoch 132/1000\n",
      " 1/15 [=>............................] - ETA: 0s - loss: 0.4970 - accuracy: 0.8516\n",
      "Epoch 132: saving model to model/keypoint_classifier\\keypoint_classifier_mlp.hdf5\n",
      "15/15 [==============================] - 0s 3ms/step - loss: 0.6412 - accuracy: 0.7648 - val_loss: 0.4419 - val_accuracy: 0.9049\n",
      "Epoch 133/1000\n",
      " 1/15 [=>............................] - ETA: 0s - loss: 0.6278 - accuracy: 0.7344\n",
      "Epoch 133: saving model to model/keypoint_classifier\\keypoint_classifier_mlp.hdf5\n",
      "15/15 [==============================] - 0s 3ms/step - loss: 0.6670 - accuracy: 0.7489 - val_loss: 0.4463 - val_accuracy: 0.9082\n",
      "Epoch 134/1000\n",
      " 1/15 [=>............................] - ETA: 0s - loss: 0.5845 - accuracy: 0.7891\n",
      "Epoch 134: saving model to model/keypoint_classifier\\keypoint_classifier_mlp.hdf5\n",
      "15/15 [==============================] - 0s 4ms/step - loss: 0.6645 - accuracy: 0.7560 - val_loss: 0.4340 - val_accuracy: 0.9148\n",
      "Epoch 135/1000\n",
      " 1/15 [=>............................] - ETA: 0s - loss: 0.8114 - accuracy: 0.6719\n",
      "Epoch 135: saving model to model/keypoint_classifier\\keypoint_classifier_mlp.hdf5\n"
     ]
    },
    {
     "name": "stdout",
     "output_type": "stream",
     "text": [
      "15/15 [==============================] - 0s 4ms/step - loss: 0.6588 - accuracy: 0.7582 - val_loss: 0.4299 - val_accuracy: 0.9164\n",
      "Epoch 136/1000\n",
      " 1/15 [=>............................] - ETA: 0s - loss: 0.6515 - accuracy: 0.7734\n",
      "Epoch 136: saving model to model/keypoint_classifier\\keypoint_classifier_mlp.hdf5\n",
      "15/15 [==============================] - 0s 3ms/step - loss: 0.6736 - accuracy: 0.7511 - val_loss: 0.4420 - val_accuracy: 0.8984\n",
      "Epoch 137/1000\n",
      " 1/15 [=>............................] - ETA: 0s - loss: 0.6102 - accuracy: 0.7500\n",
      "Epoch 137: saving model to model/keypoint_classifier\\keypoint_classifier_mlp.hdf5\n",
      "15/15 [==============================] - 0s 3ms/step - loss: 0.6562 - accuracy: 0.7533 - val_loss: 0.4419 - val_accuracy: 0.9148\n",
      "Epoch 138/1000\n",
      " 1/15 [=>............................] - ETA: 0s - loss: 0.6407 - accuracy: 0.7812\n",
      "Epoch 138: saving model to model/keypoint_classifier\\keypoint_classifier_mlp.hdf5\n",
      "15/15 [==============================] - 0s 3ms/step - loss: 0.6596 - accuracy: 0.7571 - val_loss: 0.4625 - val_accuracy: 0.8852\n",
      "Epoch 139/1000\n",
      " 1/15 [=>............................] - ETA: 0s - loss: 0.7185 - accuracy: 0.7500\n",
      "Epoch 139: saving model to model/keypoint_classifier\\keypoint_classifier_mlp.hdf5\n",
      "15/15 [==============================] - 0s 4ms/step - loss: 0.6718 - accuracy: 0.7664 - val_loss: 0.4255 - val_accuracy: 0.9197\n",
      "Epoch 140/1000\n",
      " 1/15 [=>............................] - ETA: 0s - loss: 0.6727 - accuracy: 0.7500\n",
      "Epoch 140: saving model to model/keypoint_classifier\\keypoint_classifier_mlp.hdf5\n",
      "15/15 [==============================] - 0s 4ms/step - loss: 0.6395 - accuracy: 0.7620 - val_loss: 0.4608 - val_accuracy: 0.8705\n",
      "Epoch 141/1000\n",
      " 1/15 [=>............................] - ETA: 0s - loss: 0.5725 - accuracy: 0.8047\n",
      "Epoch 141: saving model to model/keypoint_classifier\\keypoint_classifier_mlp.hdf5\n",
      "15/15 [==============================] - 0s 3ms/step - loss: 0.6459 - accuracy: 0.7702 - val_loss: 0.4102 - val_accuracy: 0.9164\n",
      "Epoch 142/1000\n",
      " 1/15 [=>............................] - ETA: 0s - loss: 0.6533 - accuracy: 0.7188\n",
      "Epoch 142: saving model to model/keypoint_classifier\\keypoint_classifier_mlp.hdf5\n",
      "15/15 [==============================] - 0s 3ms/step - loss: 0.6231 - accuracy: 0.7817 - val_loss: 0.4621 - val_accuracy: 0.8803\n",
      "Epoch 143/1000\n",
      " 1/15 [=>............................] - ETA: 0s - loss: 0.7959 - accuracy: 0.7188\n",
      "Epoch 143: saving model to model/keypoint_classifier\\keypoint_classifier_mlp.hdf5\n",
      "15/15 [==============================] - 0s 3ms/step - loss: 0.6365 - accuracy: 0.7735 - val_loss: 0.4422 - val_accuracy: 0.8951\n",
      "Epoch 144/1000\n",
      " 1/15 [=>............................] - ETA: 0s - loss: 0.5991 - accuracy: 0.7891\n",
      "Epoch 144: saving model to model/keypoint_classifier\\keypoint_classifier_mlp.hdf5\n",
      "15/15 [==============================] - 0s 3ms/step - loss: 0.6104 - accuracy: 0.7795 - val_loss: 0.4387 - val_accuracy: 0.9000\n",
      "Epoch 145/1000\n",
      " 1/15 [=>............................] - ETA: 0s - loss: 0.6829 - accuracy: 0.7266\n",
      "Epoch 145: saving model to model/keypoint_classifier\\keypoint_classifier_mlp.hdf5\n",
      "15/15 [==============================] - 0s 3ms/step - loss: 0.6505 - accuracy: 0.7588 - val_loss: 0.4381 - val_accuracy: 0.8967\n",
      "Epoch 146/1000\n",
      " 1/15 [=>............................] - ETA: 0s - loss: 0.6247 - accuracy: 0.8047\n",
      "Epoch 146: saving model to model/keypoint_classifier\\keypoint_classifier_mlp.hdf5\n",
      "15/15 [==============================] - 0s 4ms/step - loss: 0.6268 - accuracy: 0.7757 - val_loss: 0.4314 - val_accuracy: 0.9066\n",
      "Epoch 147/1000\n",
      " 1/15 [=>............................] - ETA: 0s - loss: 0.5256 - accuracy: 0.8047\n",
      "Epoch 147: saving model to model/keypoint_classifier\\keypoint_classifier_mlp.hdf5\n",
      "15/15 [==============================] - 0s 3ms/step - loss: 0.6356 - accuracy: 0.7637 - val_loss: 0.4264 - val_accuracy: 0.9164\n",
      "Epoch 148/1000\n",
      " 1/15 [=>............................] - ETA: 0s - loss: 0.5788 - accuracy: 0.7891\n",
      "Epoch 148: saving model to model/keypoint_classifier\\keypoint_classifier_mlp.hdf5\n",
      "15/15 [==============================] - 0s 4ms/step - loss: 0.6340 - accuracy: 0.7724 - val_loss: 0.4259 - val_accuracy: 0.9115\n",
      "Epoch 149/1000\n",
      " 1/15 [=>............................] - ETA: 0s - loss: 0.6715 - accuracy: 0.7891\n",
      "Epoch 149: saving model to model/keypoint_classifier\\keypoint_classifier_mlp.hdf5\n",
      "15/15 [==============================] - 0s 3ms/step - loss: 0.6314 - accuracy: 0.7686 - val_loss: 0.4514 - val_accuracy: 0.8754\n",
      "Epoch 150/1000\n",
      " 1/15 [=>............................] - ETA: 0s - loss: 0.5582 - accuracy: 0.7812\n",
      "Epoch 150: saving model to model/keypoint_classifier\\keypoint_classifier_mlp.hdf5\n",
      "15/15 [==============================] - 0s 4ms/step - loss: 0.6038 - accuracy: 0.7691 - val_loss: 0.4405 - val_accuracy: 0.8885\n",
      "Epoch 151/1000\n",
      " 1/15 [=>............................] - ETA: 0s - loss: 0.5543 - accuracy: 0.7969\n",
      "Epoch 151: saving model to model/keypoint_classifier\\keypoint_classifier_mlp.hdf5\n",
      "15/15 [==============================] - 0s 4ms/step - loss: 0.6246 - accuracy: 0.7735 - val_loss: 0.4194 - val_accuracy: 0.9131\n",
      "Epoch 152/1000\n",
      " 1/15 [=>............................] - ETA: 0s - loss: 0.6007 - accuracy: 0.7500\n",
      "Epoch 152: saving model to model/keypoint_classifier\\keypoint_classifier_mlp.hdf5\n",
      "15/15 [==============================] - 0s 3ms/step - loss: 0.6402 - accuracy: 0.7697 - val_loss: 0.4332 - val_accuracy: 0.8984\n",
      "Epoch 153/1000\n",
      " 1/15 [=>............................] - ETA: 0s - loss: 0.5749 - accuracy: 0.8203\n",
      "Epoch 153: saving model to model/keypoint_classifier\\keypoint_classifier_mlp.hdf5\n",
      "15/15 [==============================] - 0s 3ms/step - loss: 0.6228 - accuracy: 0.7801 - val_loss: 0.4291 - val_accuracy: 0.9049\n",
      "Epoch 154/1000\n",
      " 1/15 [=>............................] - ETA: 0s - loss: 0.6563 - accuracy: 0.7344\n",
      "Epoch 154: saving model to model/keypoint_classifier\\keypoint_classifier_mlp.hdf5\n",
      "15/15 [==============================] - 0s 3ms/step - loss: 0.6336 - accuracy: 0.7779 - val_loss: 0.4348 - val_accuracy: 0.9000\n",
      "Epoch 155/1000\n",
      " 1/15 [=>............................] - ETA: 0s - loss: 0.6251 - accuracy: 0.7656\n",
      "Epoch 155: saving model to model/keypoint_classifier\\keypoint_classifier_mlp.hdf5\n",
      "15/15 [==============================] - 0s 4ms/step - loss: 0.6334 - accuracy: 0.7724 - val_loss: 0.4125 - val_accuracy: 0.9197\n",
      "Epoch 156/1000\n",
      " 1/15 [=>............................] - ETA: 0s - loss: 0.5799 - accuracy: 0.7891\n",
      "Epoch 156: saving model to model/keypoint_classifier\\keypoint_classifier_mlp.hdf5\n",
      "15/15 [==============================] - 0s 3ms/step - loss: 0.6297 - accuracy: 0.7730 - val_loss: 0.4474 - val_accuracy: 0.8836\n",
      "Epoch 157/1000\n",
      " 1/15 [=>............................] - ETA: 0s - loss: 0.6224 - accuracy: 0.7734\n",
      "Epoch 157: saving model to model/keypoint_classifier\\keypoint_classifier_mlp.hdf5\n",
      "15/15 [==============================] - 0s 3ms/step - loss: 0.6026 - accuracy: 0.7823 - val_loss: 0.4261 - val_accuracy: 0.9033\n",
      "Epoch 158/1000\n",
      " 1/15 [=>............................] - ETA: 0s - loss: 0.5423 - accuracy: 0.8281\n",
      "Epoch 158: saving model to model/keypoint_classifier\\keypoint_classifier_mlp.hdf5\n",
      "15/15 [==============================] - 0s 4ms/step - loss: 0.6250 - accuracy: 0.7735 - val_loss: 0.4514 - val_accuracy: 0.8656\n",
      "Epoch 159/1000\n",
      " 1/15 [=>............................] - ETA: 0s - loss: 0.6725 - accuracy: 0.7422\n",
      "Epoch 159: saving model to model/keypoint_classifier\\keypoint_classifier_mlp.hdf5\n",
      "15/15 [==============================] - 0s 3ms/step - loss: 0.6161 - accuracy: 0.7763 - val_loss: 0.4411 - val_accuracy: 0.8984\n",
      "Epoch 160/1000\n",
      " 1/15 [=>............................] - ETA: 0s - loss: 0.7122 - accuracy: 0.7031\n",
      "Epoch 160: saving model to model/keypoint_classifier\\keypoint_classifier_mlp.hdf5\n",
      "15/15 [==============================] - 0s 4ms/step - loss: 0.6337 - accuracy: 0.7719 - val_loss: 0.4318 - val_accuracy: 0.9049\n",
      "Epoch 161/1000\n",
      " 1/15 [=>............................] - ETA: 0s - loss: 0.5716 - accuracy: 0.8125\n",
      "Epoch 161: saving model to model/keypoint_classifier\\keypoint_classifier_mlp.hdf5\n",
      "15/15 [==============================] - 0s 3ms/step - loss: 0.5872 - accuracy: 0.7938 - val_loss: 0.4126 - val_accuracy: 0.9131\n",
      "Epoch 161: early stopping\n"
     ]
    },
    {
     "data": {
      "text/plain": [
       "<keras.callbacks.History at 0x218afd78d00>"
      ]
     },
     "execution_count": 11,
     "metadata": {},
     "output_type": "execute_result"
    }
   ],
   "source": [
    "model.fit(\n",
    "    X_train,\n",
    "    y_train,\n",
    "    epochs=1000,\n",
    "    batch_size=128,\n",
    "    validation_data=(X_test, y_test),\n",
    "    callbacks=[cp_callback, es_callback]\n",
    ")"
   ]
  },
  {
   "cell_type": "code",
   "execution_count": 12,
   "metadata": {
    "colab": {
     "base_uri": "https://localhost:8080/"
    },
    "id": "pxvb2Y299hE3",
    "outputId": "59eb3185-2e37-4b9e-bc9d-ab1b8ac29b7f"
   },
   "outputs": [
    {
     "name": "stdout",
     "output_type": "stream",
     "text": [
      "5/5 [==============================] - 0s 1ms/step - loss: 0.4126 - accuracy: 0.9131\n"
     ]
    }
   ],
   "source": [
    "# Avaliação do modelo\n",
    "val_loss, val_acc = model.evaluate(X_test, y_test, batch_size=128)"
   ]
  },
  {
   "cell_type": "code",
   "execution_count": 13,
   "metadata": {
    "id": "RBkmDeUW9hE4"
   },
   "outputs": [],
   "source": [
    "# Carregando o modelo salvo\n",
    "model = tf.keras.models.load_model(model_save_path)"
   ]
  },
  {
   "cell_type": "code",
   "execution_count": 14,
   "metadata": {
    "colab": {
     "base_uri": "https://localhost:8080/"
    },
    "id": "tFz9Tb0I9hE4",
    "outputId": "1c3b3528-54ae-4ee2-ab04-77429211cbef"
   },
   "outputs": [
    {
     "name": "stdout",
     "output_type": "stream",
     "text": [
      "[0.03433203 0.01361032 0.13412687 0.81793076]\n",
      "3\n"
     ]
    }
   ],
   "source": [
    "# Teste de Inferência\n",
    "predict_result = model.predict(np.array([X_test[0]]))\n",
    "print(np.squeeze(predict_result))\n",
    "print(np.argmax(np.squeeze(predict_result)))"
   ]
  },
  {
   "cell_type": "markdown",
   "metadata": {
    "id": "S3U4yNWx9hE4"
   },
   "source": [
    "# Matriz de Confusão"
   ]
  },
  {
   "cell_type": "code",
   "execution_count": 15,
   "metadata": {
    "colab": {
     "base_uri": "https://localhost:8080/",
     "height": 582
    },
    "id": "AP1V6SCk9hE5",
    "outputId": "08e41a80-7a4a-4619-8125-ecc371368d19"
   },
   "outputs": [
    {
     "data": {
      "image/png": "[encoded data removed]",
      "text/plain": [
       "<Figure size 504x432 with 2 Axes>"
      ]
     },
     "metadata": {
      "needs_background": "light"
     },
     "output_type": "display_data"
    },
    {
     "name": "stdout",
     "output_type": "stream",
     "text": [
      "Relatório de classificação\n",
      "              precision    recall  f1-score   support\n",
      "\n",
      "           0       0.87      0.92      0.90        89\n",
      "           1       0.91      0.85      0.88        87\n",
      "           2       0.94      0.94      0.94       262\n",
      "           3       0.90      0.90      0.90       172\n",
      "\n",
      "    accuracy                           0.91       610\n",
      "   macro avg       0.91      0.90      0.90       610\n",
      "weighted avg       0.91      0.91      0.91       610\n",
      "\n"
     ]
    }
   ],
   "source": [
    "import pandas as pd\n",
    "import seaborn as sns\n",
    "import matplotlib.pyplot as plt\n",
    "from sklearn.metrics import confusion_matrix, classification_report\n",
    "\n",
    "def print_confusion_matrix(y_true, y_pred, report=True):\n",
    "    labels = sorted(list(set(y_true)))\n",
    "    cmx_data = confusion_matrix(y_true, y_pred, labels=labels)\n",
    "    \n",
    "    df_cmx = pd.DataFrame(cmx_data, index=labels, columns=labels)\n",
    " \n",
    "    fig, ax = plt.subplots(figsize=(7, 6))\n",
    "    sns.heatmap(df_cmx, annot=True, fmt='g' ,square=False)\n",
    "    ax.set_ylim(len(set(y_true)), 0)\n",
    "    plt.show()\n",
    "    \n",
    "    if report:\n",
    "        print('Relatório de classificação')\n",
    "        print(classification_report(y_test, y_pred))\n",
    "\n",
    "Y_pred = model.predict(X_test)\n",
    "y_pred = np.argmax(Y_pred, axis=1)\n",
    "\n",
    "print_confusion_matrix(y_test, y_pred)"
   ]
  },
  {
   "cell_type": "markdown",
   "metadata": {
    "id": "FNP6aqzc9hE5"
   },
   "source": [
    "# Convertendo modelo para Tensorflow-Lite"
   ]
  },
  {
   "cell_type": "code",
   "execution_count": 16,
   "metadata": {
    "id": "ODjnYyld9hE6"
   },
   "outputs": [],
   "source": [
    "# Salvando modelo dedicado à inferência\n",
    "model.save(model_save_path, include_optimizer=False)"
   ]
  },
  {
   "cell_type": "code",
   "execution_count": 17,
   "metadata": {
    "colab": {
     "base_uri": "https://localhost:8080/"
    },
    "id": "zRfuK8Y59hE6",
    "outputId": "a4ca585c-b5d5-4244-8291-8674063209bb"
   },
   "outputs": [
    {
     "name": "stdout",
     "output_type": "stream",
     "text": [
      "INFO:tensorflow:Assets written to: C:\\Users\\pablo\\AppData\\Local\\Temp\\tmpu52fb24y\\assets\n"
     ]
    },
    {
     "name": "stderr",
     "output_type": "stream",
     "text": [
      "WARNING:absl:Buffer deduplication procedure will be skipped when flatbuffer library is not properly loaded\n"
     ]
    },
    {
     "data": {
      "text/plain": [
       "6416"
      ]
     },
     "execution_count": 17,
     "metadata": {},
     "output_type": "execute_result"
    }
   ],
   "source": [
    "# Transformando o modelo (quantização)\n",
    "\n",
    "converter = tf.lite.TFLiteConverter.from_keras_model(model)\n",
    "converter.optimizations = [tf.lite.Optimize.DEFAULT]\n",
    "tflite_quantized_model = converter.convert()\n",
    "\n",
    "open(tflite_save_path, 'wb').write(tflite_quantized_model)"
   ]
  },
  {
   "cell_type": "markdown",
   "metadata": {
    "id": "CHBPBXdx9hE6"
   },
   "source": [
    "# Teste de Inferência"
   ]
  },
  {
   "cell_type": "code",
   "execution_count": 18,
   "metadata": {
    "id": "mGAzLocO9hE7"
   },
   "outputs": [],
   "source": [
    "interpreter = tf.lite.Interpreter(model_path=tflite_save_path)\n",
    "interpreter.allocate_tensors()"
   ]
  },
  {
   "cell_type": "code",
   "execution_count": 19,
   "metadata": {
    "id": "oQuDK8YS9hE7"
   },
   "outputs": [],
   "source": [
    "# Obtendo tensor I / O \n",
    "input_details = interpreter.get_input_details()\n",
    "output_details = interpreter.get_output_details()"
   ]
  },
  {
   "cell_type": "code",
   "execution_count": 20,
   "metadata": {
    "id": "2_ixAf_l9hE7"
   },
   "outputs": [],
   "source": [
    "interpreter.set_tensor(input_details[0]['index'], np.array([X_test[0]]))"
   ]
  },
  {
   "cell_type": "code",
   "execution_count": 21,
   "metadata": {
    "colab": {
     "base_uri": "https://localhost:8080/"
    },
    "id": "s4FoAnuc9hE7",
    "outputId": "91f18257-8d8b-4ef3-c558-e9b5f94fabbf",
    "scrolled": true
   },
   "outputs": [
    {
     "name": "stdout",
     "output_type": "stream",
     "text": [
      "Wall time: 0 ns\n"
     ]
    }
   ],
   "source": [
    "%%time\n",
    "# Implementação da inferência\n",
    "interpreter.invoke()\n",
    "tflite_results = interpreter.get_tensor(output_details[0]['index'])"
   ]
  },
  {
   "cell_type": "code",
   "execution_count": 22,
   "metadata": {
    "colab": {
     "base_uri": "https://localhost:8080/"
    },
    "id": "vONjp19J9hE8",
    "outputId": "77205e24-fd00-42c4-f7b6-e06e527c2cba"
   },
   "outputs": [
    {
     "name": "stdout",
     "output_type": "stream",
     "text": [
      "[0.03433202 0.01361032 0.13412684 0.81793076]\n",
      "3\n"
     ]
    }
   ],
   "source": [
    "print(np.squeeze(tflite_results))\n",
    "print(np.argmax(np.squeeze(tflite_results)))"
   ]
  },
  {
   "cell_type": "code",
   "execution_count": null,
   "metadata": {},
   "outputs": [],
   "source": []
  }
 ],
 "metadata": {
  "accelerator": "GPU",
  "colab": {
   "collapsed_sections": [],
   "name": "keypoint_classification_EN.ipynb",
   "provenance": [],
   "toc_visible": true
  },
  "interpreter": {
   "hash": "e58e6d0c6948327b8a11e2fdb3e42a6def7c3b11ab6e677549a7512aaa6e3e29"
  },
  "kernelspec": {
   "display_name": "Python 3 (ipykernel)",
   "language": "python",
   "name": "python3"
  },
  "language_info": {
   "codemirror_mode": {
    "name": "ipython",
    "version": 3
   },
   "file_extension": ".py",
   "mimetype": "text/x-python",
   "name": "python",
   "nbconvert_exporter": "python",
   "pygments_lexer": "ipython3",
   "version": "3.9.6"
  }
 },
 "nbformat": 4,
 "nbformat_minor": 1
}
