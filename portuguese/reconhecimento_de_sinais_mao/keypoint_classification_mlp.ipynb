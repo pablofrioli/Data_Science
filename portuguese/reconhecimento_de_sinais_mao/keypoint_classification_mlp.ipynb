{
 "cells": [
  {
   "cell_type": "code",
   "execution_count": 2,
   "metadata": {
    "id": "igMyGnjE9hEp"
   },
   "outputs": [],
   "source": [
    "import csv\n",
    "\n",
    "import numpy as np\n",
    "import tensorflow as tf\n",
    "\n",
    "from sklearn.model_selection import train_test_split\n",
    "\n",
    "RANDOM_SEED = 42"
   ]
  },
  {
   "cell_type": "markdown",
   "metadata": {
    "id": "t2HDvhIu9hEr"
   },
   "source": [
    "# Specify each path"
   ]
  },
  {
   "cell_type": "code",
   "execution_count": 3,
   "metadata": {
    "id": "9NvZP2Zn9hEy"
   },
   "outputs": [],
   "source": [
    "dataset = 'model/keypoint_classifier/keypoint_dataset.csv'\n",
    "model_save_path = 'model/keypoint_classifier/keypoint_classifier_mlp.hdf5'\n",
    "tflite_save_path = 'model/keypoint_classifier/keypoint_classifier_mlp.tflite'"
   ]
  },
  {
   "cell_type": "markdown",
   "metadata": {
    "id": "s5oMH7x19hEz"
   },
   "source": [
    "# Set number of classes"
   ]
  },
  {
   "cell_type": "code",
   "execution_count": 4,
   "metadata": {
    "id": "du4kodXL9hEz"
   },
   "outputs": [],
   "source": [
    "NUM_CLASSES = 4"
   ]
  },
  {
   "cell_type": "markdown",
   "metadata": {
    "id": "XjnL0uso9hEz"
   },
   "source": [
    "# Dataset reading"
   ]
  },
  {
   "cell_type": "code",
   "execution_count": 5,
   "metadata": {
    "id": "QT5ZqtEz9hE0"
   },
   "outputs": [],
   "source": [
    "X_dataset = np.loadtxt(dataset, delimiter=',', dtype='float32', usecols=list(range(1, (21 * 2) + 1)))"
   ]
  },
  {
   "cell_type": "code",
   "execution_count": 6,
   "metadata": {
    "id": "QmoKFsp49hE0"
   },
   "outputs": [],
   "source": [
    "y_dataset = np.loadtxt(dataset, delimiter=',', dtype='int32', usecols=(0))"
   ]
  },
  {
   "cell_type": "code",
   "execution_count": 7,
   "metadata": {
    "id": "xQU7JTZ_9hE0"
   },
   "outputs": [],
   "source": [
    "X_train, X_test, y_train, y_test = train_test_split(X_dataset, y_dataset, train_size=0.75, random_state=RANDOM_SEED)"
   ]
  },
  {
   "cell_type": "markdown",
   "metadata": {
    "id": "mxK_lETT9hE0"
   },
   "source": [
    "# Model building"
   ]
  },
  {
   "cell_type": "code",
   "execution_count": 8,
   "metadata": {
    "id": "vHBmUf1t9hE1"
   },
   "outputs": [],
   "source": [
    "model = tf.keras.models.Sequential([\n",
    "    tf.keras.layers.Input((21 * 2, )),\n",
    "    tf.keras.layers.Dropout(0.2),\n",
    "    tf.keras.layers.Dense(20, activation='relu'),\n",
    "    tf.keras.layers.Dropout(0.4),\n",
    "    tf.keras.layers.Dense(10, activation='relu'),\n",
    "    tf.keras.layers.Dense(NUM_CLASSES, activation='softmax')\n",
    "])"
   ]
  },
  {
   "cell_type": "code",
   "execution_count": 9,
   "metadata": {
    "colab": {
     "base_uri": "https://localhost:8080/"
    },
    "id": "ypqky9tc9hE1",
    "outputId": "5db082bb-30e3-4110-bf63-a1ee777ecd46"
   },
   "outputs": [
    {
     "name": "stdout",
     "output_type": "stream",
     "text": [
      "Model: \"sequential\"\n",
      "_________________________________________________________________\n",
      " Layer (type)                Output Shape              Param #   \n",
      "=================================================================\n",
      " dropout (Dropout)           (None, 42)                0         \n",
      "                                                                 \n",
      " dense (Dense)               (None, 20)                860       \n",
      "                                                                 \n",
      " dropout_1 (Dropout)         (None, 20)                0         \n",
      "                                                                 \n",
      " dense_1 (Dense)             (None, 10)                210       \n",
      "                                                                 \n",
      " dense_2 (Dense)             (None, 4)                 44        \n",
      "                                                                 \n",
      "=================================================================\n",
      "Total params: 1,114\n",
      "Trainable params: 1,114\n",
      "Non-trainable params: 0\n",
      "_________________________________________________________________\n"
     ]
    }
   ],
   "source": [
    "model.summary()  # tf.keras.utils.plot_model(model, show_shapes=True)"
   ]
  },
  {
   "cell_type": "code",
   "execution_count": 10,
   "metadata": {
    "id": "MbMjOflQ9hE1"
   },
   "outputs": [],
   "source": [
    "# Model checkpoint callback\n",
    "cp_callback = tf.keras.callbacks.ModelCheckpoint(\n",
    "    model_save_path, verbose=1, save_weights_only=False)\n",
    "# Callback for early stopping\n",
    "es_callback = tf.keras.callbacks.EarlyStopping(patience=20, verbose=1)"
   ]
  },
  {
   "cell_type": "code",
   "execution_count": 11,
   "metadata": {
    "id": "c3Dac0M_9hE2"
   },
   "outputs": [],
   "source": [
    "# Model compilation\n",
    "model.compile(\n",
    "    optimizer='adam',\n",
    "    loss='sparse_categorical_crossentropy',\n",
    "    metrics=['accuracy']\n",
    ")"
   ]
  },
  {
   "cell_type": "markdown",
   "metadata": {
    "id": "7XI0j1Iu9hE2"
   },
   "source": [
    "# Model training"
   ]
  },
  {
   "cell_type": "code",
   "execution_count": 12,
   "metadata": {
    "colab": {
     "base_uri": "https://localhost:8080/"
    },
    "id": "WirBl-JE9hE3",
    "outputId": "71b30ca2-8294-4d9d-8aa2-800d90d399de",
    "scrolled": true
   },
   "outputs": [
    {
     "name": "stdout",
     "output_type": "stream",
     "text": [
      "Epoch 1/1000\n",
      " 8/14 [================>.............] - ETA: 0s - loss: 1.4726 - accuracy: 0.3115 \n",
      "Epoch 1: saving model to model/keypoint_classifier\\keypoint_classifier_mlp.hdf5\n",
      "14/14 [==============================] - 3s 78ms/step - loss: 1.4317 - accuracy: 0.3025 - val_loss: 1.2721 - val_accuracy: 0.3232\n",
      "Epoch 2/1000\n",
      " 8/14 [================>.............] - ETA: 0s - loss: 1.3216 - accuracy: 0.3477\n",
      "Epoch 2: saving model to model/keypoint_classifier\\keypoint_classifier_mlp.hdf5\n",
      "14/14 [==============================] - 0s 26ms/step - loss: 1.3173 - accuracy: 0.3423 - val_loss: 1.2148 - val_accuracy: 0.4141\n",
      "Epoch 3/1000\n",
      "13/14 [==========================>...] - ETA: 0s - loss: 1.2570 - accuracy: 0.4069\n",
      "Epoch 3: saving model to model/keypoint_classifier\\keypoint_classifier_mlp.hdf5\n",
      "14/14 [==============================] - 0s 27ms/step - loss: 1.2560 - accuracy: 0.4068 - val_loss: 1.1854 - val_accuracy: 0.4141\n",
      "Epoch 4/1000\n",
      "13/14 [==========================>...] - ETA: 0s - loss: 1.2250 - accuracy: 0.4273\n",
      "Epoch 4: saving model to model/keypoint_classifier\\keypoint_classifier_mlp.hdf5\n",
      "14/14 [==============================] - 0s 26ms/step - loss: 1.2271 - accuracy: 0.4248 - val_loss: 1.1668 - val_accuracy: 0.4125\n",
      "Epoch 5/1000\n",
      " 1/14 [=>............................] - ETA: 0s - loss: 1.2758 - accuracy: 0.3828\n",
      "Epoch 5: saving model to model/keypoint_classifier\\keypoint_classifier_mlp.hdf5\n",
      "14/14 [==============================] - 0s 8ms/step - loss: 1.2077 - accuracy: 0.4355 - val_loss: 1.1455 - val_accuracy: 0.4108\n",
      "Epoch 6/1000\n",
      "14/14 [==============================] - ETA: 0s - loss: 1.1785 - accuracy: 0.4343\n",
      "Epoch 6: saving model to model/keypoint_classifier\\keypoint_classifier_mlp.hdf5\n",
      "14/14 [==============================] - 0s 18ms/step - loss: 1.1785 - accuracy: 0.4343 - val_loss: 1.1279 - val_accuracy: 0.4074\n",
      "Epoch 7/1000\n",
      " 8/14 [================>.............] - ETA: 0s - loss: 1.1868 - accuracy: 0.4326\n",
      "Epoch 7: saving model to model/keypoint_classifier\\keypoint_classifier_mlp.hdf5\n",
      "14/14 [==============================] - 0s 24ms/step - loss: 1.1773 - accuracy: 0.4287 - val_loss: 1.1143 - val_accuracy: 0.4024\n",
      "Epoch 8/1000\n",
      "13/14 [==========================>...] - ETA: 0s - loss: 1.1662 - accuracy: 0.4411\n",
      "Epoch 8: saving model to model/keypoint_classifier\\keypoint_classifier_mlp.hdf5\n",
      "14/14 [==============================] - 0s 27ms/step - loss: 1.1636 - accuracy: 0.4422 - val_loss: 1.0943 - val_accuracy: 0.4141\n",
      "Epoch 9/1000\n",
      "14/14 [==============================] - ETA: 0s - loss: 1.1484 - accuracy: 0.4338\n",
      "Epoch 9: saving model to model/keypoint_classifier\\keypoint_classifier_mlp.hdf5\n",
      "14/14 [==============================] - 0s 23ms/step - loss: 1.1484 - accuracy: 0.4338 - val_loss: 1.0791 - val_accuracy: 0.4108\n",
      "Epoch 10/1000\n",
      "13/14 [==========================>...] - ETA: 0s - loss: 1.1296 - accuracy: 0.4501\n",
      "Epoch 10: saving model to model/keypoint_classifier\\keypoint_classifier_mlp.hdf5\n",
      "14/14 [==============================] - 0s 14ms/step - loss: 1.1288 - accuracy: 0.4495 - val_loss: 1.0630 - val_accuracy: 0.4461\n",
      "Epoch 11/1000\n",
      "13/14 [==========================>...] - ETA: 0s - loss: 1.1086 - accuracy: 0.4543\n",
      "Epoch 11: saving model to model/keypoint_classifier\\keypoint_classifier_mlp.hdf5\n",
      "14/14 [==============================] - 0s 18ms/step - loss: 1.1146 - accuracy: 0.4517 - val_loss: 1.0488 - val_accuracy: 0.4343\n",
      "Epoch 12/1000\n",
      " 9/14 [==================>...........] - ETA: 0s - loss: 1.1083 - accuracy: 0.4792\n",
      "Epoch 12: saving model to model/keypoint_classifier\\keypoint_classifier_mlp.hdf5\n",
      "14/14 [==============================] - 0s 23ms/step - loss: 1.1080 - accuracy: 0.4708 - val_loss: 1.0387 - val_accuracy: 0.4545\n",
      "Epoch 13/1000\n",
      "14/14 [==============================] - ETA: 0s - loss: 1.1017 - accuracy: 0.4675\n",
      "Epoch 13: saving model to model/keypoint_classifier\\keypoint_classifier_mlp.hdf5\n",
      "14/14 [==============================] - 0s 18ms/step - loss: 1.1017 - accuracy: 0.4675 - val_loss: 1.0313 - val_accuracy: 0.4428\n",
      "Epoch 14/1000\n",
      " 1/14 [=>............................] - ETA: 0s - loss: 1.0703 - accuracy: 0.5391\n",
      "Epoch 14: saving model to model/keypoint_classifier\\keypoint_classifier_mlp.hdf5\n",
      "14/14 [==============================] - 0s 11ms/step - loss: 1.0904 - accuracy: 0.4719 - val_loss: 1.0186 - val_accuracy: 0.4343\n",
      "Epoch 15/1000\n",
      " 1/14 [=>............................] - ETA: 0s - loss: 1.0909 - accuracy: 0.4922\n",
      "Epoch 15: saving model to model/keypoint_classifier\\keypoint_classifier_mlp.hdf5\n",
      "14/14 [==============================] - 0s 12ms/step - loss: 1.0694 - accuracy: 0.4781 - val_loss: 1.0033 - val_accuracy: 0.4411\n",
      "Epoch 16/1000\n",
      " 1/14 [=>............................] - ETA: 0s - loss: 1.0893 - accuracy: 0.4766\n",
      "Epoch 16: saving model to model/keypoint_classifier\\keypoint_classifier_mlp.hdf5\n",
      "14/14 [==============================] - 0s 10ms/step - loss: 1.0644 - accuracy: 0.4809 - val_loss: 0.9874 - val_accuracy: 0.4343\n",
      "Epoch 17/1000\n",
      " 1/14 [=>............................] - ETA: 0s - loss: 1.0940 - accuracy: 0.4375\n",
      "Epoch 17: saving model to model/keypoint_classifier\\keypoint_classifier_mlp.hdf5\n",
      "14/14 [==============================] - 0s 11ms/step - loss: 1.0697 - accuracy: 0.4776 - val_loss: 0.9702 - val_accuracy: 0.4411\n",
      "Epoch 18/1000\n",
      " 1/14 [=>............................] - ETA: 0s - loss: 1.1232 - accuracy: 0.4531\n",
      "Epoch 18: saving model to model/keypoint_classifier\\keypoint_classifier_mlp.hdf5\n",
      "14/14 [==============================] - 0s 12ms/step - loss: 1.0620 - accuracy: 0.4916 - val_loss: 0.9671 - val_accuracy: 0.4461\n",
      "Epoch 19/1000\n",
      "12/14 [========================>.....] - ETA: 0s - loss: 1.0419 - accuracy: 0.4967\n",
      "Epoch 19: saving model to model/keypoint_classifier\\keypoint_classifier_mlp.hdf5\n",
      "14/14 [==============================] - 0s 15ms/step - loss: 1.0380 - accuracy: 0.4983 - val_loss: 0.9519 - val_accuracy: 0.4731\n",
      "Epoch 20/1000\n",
      "13/14 [==========================>...] - ETA: 0s - loss: 1.0204 - accuracy: 0.5174\n",
      "Epoch 20: saving model to model/keypoint_classifier\\keypoint_classifier_mlp.hdf5\n",
      "14/14 [==============================] - 0s 13ms/step - loss: 1.0228 - accuracy: 0.5152 - val_loss: 0.9355 - val_accuracy: 0.4764\n",
      "Epoch 21/1000\n",
      "12/14 [========================>.....] - ETA: 0s - loss: 1.0214 - accuracy: 0.5072\n",
      "Epoch 21: saving model to model/keypoint_classifier\\keypoint_classifier_mlp.hdf5\n",
      "14/14 [==============================] - 0s 14ms/step - loss: 1.0153 - accuracy: 0.5084 - val_loss: 0.9185 - val_accuracy: 0.5051\n",
      "Epoch 22/1000\n",
      "14/14 [==============================] - ETA: 0s - loss: 1.0217 - accuracy: 0.5213\n",
      "Epoch 22: saving model to model/keypoint_classifier\\keypoint_classifier_mlp.hdf5\n",
      "14/14 [==============================] - 0s 18ms/step - loss: 1.0217 - accuracy: 0.5213 - val_loss: 0.9088 - val_accuracy: 0.5286\n",
      "Epoch 23/1000\n",
      " 8/14 [================>.............] - ETA: 0s - loss: 0.9893 - accuracy: 0.5176\n",
      "Epoch 23: saving model to model/keypoint_classifier\\keypoint_classifier_mlp.hdf5\n",
      "14/14 [==============================] - 0s 25ms/step - loss: 0.9923 - accuracy: 0.5275 - val_loss: 0.9022 - val_accuracy: 0.5421\n",
      "Epoch 24/1000\n",
      " 8/14 [================>.............] - ETA: 0s - loss: 0.9869 - accuracy: 0.5273\n",
      "Epoch 24: saving model to model/keypoint_classifier\\keypoint_classifier_mlp.hdf5\n",
      "14/14 [==============================] - 0s 25ms/step - loss: 0.9982 - accuracy: 0.5387 - val_loss: 0.8836 - val_accuracy: 0.5976\n",
      "Epoch 25/1000\n",
      "13/14 [==========================>...] - ETA: 0s - loss: 0.9974 - accuracy: 0.5246\n",
      "Epoch 25: saving model to model/keypoint_classifier\\keypoint_classifier_mlp.hdf5\n",
      "14/14 [==============================] - 0s 26ms/step - loss: 0.9951 - accuracy: 0.5230 - val_loss: 0.8674 - val_accuracy: 0.6852\n",
      "Epoch 26/1000\n",
      " 9/14 [==================>...........] - ETA: 0s - loss: 0.9927 - accuracy: 0.5339\n",
      "Epoch 26: saving model to model/keypoint_classifier\\keypoint_classifier_mlp.hdf5\n",
      "14/14 [==============================] - 0s 21ms/step - loss: 0.9882 - accuracy: 0.5376 - val_loss: 0.8655 - val_accuracy: 0.6667\n",
      "Epoch 27/1000\n",
      " 8/14 [================>.............] - ETA: 0s - loss: 0.9659 - accuracy: 0.5371\n",
      "Epoch 27: saving model to model/keypoint_classifier\\keypoint_classifier_mlp.hdf5\n",
      "14/14 [==============================] - 0s 24ms/step - loss: 0.9722 - accuracy: 0.5471 - val_loss: 0.8617 - val_accuracy: 0.6717\n",
      "Epoch 28/1000\n",
      "13/14 [==========================>...] - ETA: 0s - loss: 0.9697 - accuracy: 0.5511\n",
      "Epoch 28: saving model to model/keypoint_classifier\\keypoint_classifier_mlp.hdf5\n",
      "14/14 [==============================] - 0s 27ms/step - loss: 0.9661 - accuracy: 0.5567 - val_loss: 0.8446 - val_accuracy: 0.6751\n",
      "Epoch 29/1000\n",
      "14/14 [==============================] - ETA: 0s - loss: 0.9491 - accuracy: 0.5533\n",
      "Epoch 29: saving model to model/keypoint_classifier\\keypoint_classifier_mlp.hdf5\n",
      "14/14 [==============================] - 0s 26ms/step - loss: 0.9491 - accuracy: 0.5533 - val_loss: 0.8242 - val_accuracy: 0.6869\n",
      "Epoch 30/1000\n",
      " 8/14 [================>.............] - ETA: 0s - loss: 0.9402 - accuracy: 0.5586\n",
      "Epoch 30: saving model to model/keypoint_classifier\\keypoint_classifier_mlp.hdf5\n",
      "14/14 [==============================] - 0s 26ms/step - loss: 0.9372 - accuracy: 0.5707 - val_loss: 0.8077 - val_accuracy: 0.7357\n",
      "Epoch 31/1000\n",
      " 8/14 [================>.............] - ETA: 0s - loss: 0.9368 - accuracy: 0.5752\n",
      "Epoch 31: saving model to model/keypoint_classifier\\keypoint_classifier_mlp.hdf5\n",
      "14/14 [==============================] - 0s 17ms/step - loss: 0.9233 - accuracy: 0.5769 - val_loss: 0.7968 - val_accuracy: 0.7374\n",
      "Epoch 32/1000\n",
      " 1/14 [=>............................] - ETA: 0s - loss: 0.9287 - accuracy: 0.5625\n",
      "Epoch 32: saving model to model/keypoint_classifier\\keypoint_classifier_mlp.hdf5\n",
      "14/14 [==============================] - 0s 9ms/step - loss: 0.9417 - accuracy: 0.5617 - val_loss: 0.7886 - val_accuracy: 0.7424\n",
      "Epoch 33/1000\n",
      " 9/14 [==================>...........] - ETA: 0s - loss: 0.9123 - accuracy: 0.5833\n",
      "Epoch 33: saving model to model/keypoint_classifier\\keypoint_classifier_mlp.hdf5\n",
      "14/14 [==============================] - 0s 22ms/step - loss: 0.9093 - accuracy: 0.5853 - val_loss: 0.7779 - val_accuracy: 0.7828\n",
      "Epoch 34/1000\n",
      " 8/14 [================>.............] - ETA: 0s - loss: 0.9289 - accuracy: 0.5879\n",
      "Epoch 34: saving model to model/keypoint_classifier\\keypoint_classifier_mlp.hdf5\n",
      "14/14 [==============================] - 0s 26ms/step - loss: 0.9191 - accuracy: 0.5859 - val_loss: 0.7640 - val_accuracy: 0.8030\n",
      "Epoch 35/1000\n",
      " 8/14 [================>.............] - ETA: 0s - loss: 0.9163 - accuracy: 0.5840\n",
      "Epoch 35: saving model to model/keypoint_classifier\\keypoint_classifier_mlp.hdf5\n",
      "14/14 [==============================] - 0s 23ms/step - loss: 0.9022 - accuracy: 0.5898 - val_loss: 0.7623 - val_accuracy: 0.7761\n",
      "Epoch 36/1000\n",
      " 8/14 [================>.............] - ETA: 0s - loss: 0.8793 - accuracy: 0.6045\n",
      "Epoch 36: saving model to model/keypoint_classifier\\keypoint_classifier_mlp.hdf5\n",
      "14/14 [==============================] - 0s 17ms/step - loss: 0.8979 - accuracy: 0.5976 - val_loss: 0.7577 - val_accuracy: 0.7694\n",
      "Epoch 37/1000\n",
      "13/14 [==========================>...] - ETA: 0s - loss: 0.9071 - accuracy: 0.5823\n",
      "Epoch 37: saving model to model/keypoint_classifier\\keypoint_classifier_mlp.hdf5\n",
      "14/14 [==============================] - 0s 14ms/step - loss: 0.9073 - accuracy: 0.5808 - val_loss: 0.7516 - val_accuracy: 0.8030\n",
      "Epoch 38/1000\n",
      "13/14 [==========================>...] - ETA: 0s - loss: 0.8886 - accuracy: 0.6088\n",
      "Epoch 38: saving model to model/keypoint_classifier\\keypoint_classifier_mlp.hdf5\n",
      "14/14 [==============================] - 0s 16ms/step - loss: 0.8919 - accuracy: 0.6072 - val_loss: 0.7429 - val_accuracy: 0.8131\n",
      "Epoch 39/1000\n",
      " 8/14 [================>.............] - ETA: 0s - loss: 0.8666 - accuracy: 0.6143\n",
      "Epoch 39: saving model to model/keypoint_classifier\\keypoint_classifier_mlp.hdf5\n",
      "14/14 [==============================] - 0s 24ms/step - loss: 0.8691 - accuracy: 0.6122 - val_loss: 0.7214 - val_accuracy: 0.8249\n",
      "Epoch 40/1000\n",
      " 9/14 [==================>...........] - ETA: 0s - loss: 0.8840 - accuracy: 0.6094\n",
      "Epoch 40: saving model to model/keypoint_classifier\\keypoint_classifier_mlp.hdf5\n",
      "14/14 [==============================] - 0s 22ms/step - loss: 0.8836 - accuracy: 0.6033 - val_loss: 0.7175 - val_accuracy: 0.8283\n",
      "Epoch 41/1000\n",
      "13/14 [==========================>...] - ETA: 0s - loss: 0.8754 - accuracy: 0.5974\n",
      "Epoch 41: saving model to model/keypoint_classifier\\keypoint_classifier_mlp.hdf5\n",
      "14/14 [==============================] - 0s 28ms/step - loss: 0.8721 - accuracy: 0.5999 - val_loss: 0.7177 - val_accuracy: 0.8232\n",
      "Epoch 42/1000\n",
      "11/14 [======================>.......] - ETA: 0s - loss: 0.8742 - accuracy: 0.5966\n",
      "Epoch 42: saving model to model/keypoint_classifier\\keypoint_classifier_mlp.hdf5\n",
      "14/14 [==============================] - 0s 16ms/step - loss: 0.8588 - accuracy: 0.6117 - val_loss: 0.7073 - val_accuracy: 0.8418\n",
      "Epoch 43/1000\n",
      "12/14 [========================>.....] - ETA: 0s - loss: 0.8494 - accuracy: 0.6165\n",
      "Epoch 43: saving model to model/keypoint_classifier\\keypoint_classifier_mlp.hdf5\n",
      "14/14 [==============================] - 0s 14ms/step - loss: 0.8449 - accuracy: 0.6173 - val_loss: 0.7078 - val_accuracy: 0.8333\n",
      "Epoch 44/1000\n",
      " 1/14 [=>............................] - ETA: 0s - loss: 0.8309 - accuracy: 0.6094\n",
      "Epoch 44: saving model to model/keypoint_classifier\\keypoint_classifier_mlp.hdf5\n",
      "14/14 [==============================] - 0s 11ms/step - loss: 0.8605 - accuracy: 0.6033 - val_loss: 0.7072 - val_accuracy: 0.8451\n",
      "Epoch 45/1000\n",
      "10/14 [====================>.........] - ETA: 0s - loss: 0.8585 - accuracy: 0.6039\n",
      "Epoch 45: saving model to model/keypoint_classifier\\keypoint_classifier_mlp.hdf5\n",
      "14/14 [==============================] - 0s 20ms/step - loss: 0.8557 - accuracy: 0.6128 - val_loss: 0.7001 - val_accuracy: 0.8502\n",
      "Epoch 46/1000\n",
      "14/14 [==============================] - ETA: 0s - loss: 0.8544 - accuracy: 0.6083\n",
      "Epoch 46: saving model to model/keypoint_classifier\\keypoint_classifier_mlp.hdf5\n",
      "14/14 [==============================] - 0s 26ms/step - loss: 0.8544 - accuracy: 0.6083 - val_loss: 0.6876 - val_accuracy: 0.8468\n",
      "Epoch 47/1000\n",
      "14/14 [==============================] - ETA: 0s - loss: 0.8391 - accuracy: 0.6420\n",
      "Epoch 47: saving model to model/keypoint_classifier\\keypoint_classifier_mlp.hdf5\n",
      "14/14 [==============================] - 0s 26ms/step - loss: 0.8391 - accuracy: 0.6420 - val_loss: 0.6757 - val_accuracy: 0.8384\n",
      "Epoch 48/1000\n",
      " 8/14 [================>.............] - ETA: 0s - loss: 0.8544 - accuracy: 0.6191\n",
      "Epoch 48: saving model to model/keypoint_classifier\\keypoint_classifier_mlp.hdf5\n",
      "14/14 [==============================] - 0s 26ms/step - loss: 0.8522 - accuracy: 0.6207 - val_loss: 0.6850 - val_accuracy: 0.8434\n",
      "Epoch 49/1000\n",
      "13/14 [==========================>...] - ETA: 0s - loss: 0.8280 - accuracy: 0.6298\n",
      "Epoch 49: saving model to model/keypoint_classifier\\keypoint_classifier_mlp.hdf5\n",
      "14/14 [==============================] - 0s 27ms/step - loss: 0.8169 - accuracy: 0.6352 - val_loss: 0.6836 - val_accuracy: 0.8451\n",
      "Epoch 50/1000\n",
      "13/14 [==========================>...] - ETA: 0s - loss: 0.8355 - accuracy: 0.6274\n",
      "Epoch 50: saving model to model/keypoint_classifier\\keypoint_classifier_mlp.hdf5\n",
      "14/14 [==============================] - 0s 25ms/step - loss: 0.8336 - accuracy: 0.6274 - val_loss: 0.6779 - val_accuracy: 0.8502\n",
      "Epoch 51/1000\n",
      " 8/14 [================>.............] - ETA: 0s - loss: 0.8200 - accuracy: 0.6348\n",
      "Epoch 51: saving model to model/keypoint_classifier\\keypoint_classifier_mlp.hdf5\n",
      "14/14 [==============================] - 0s 15ms/step - loss: 0.8190 - accuracy: 0.6308 - val_loss: 0.6698 - val_accuracy: 0.8434\n",
      "Epoch 52/1000\n",
      " 1/14 [=>............................] - ETA: 0s - loss: 0.7805 - accuracy: 0.6328\n",
      "Epoch 52: saving model to model/keypoint_classifier\\keypoint_classifier_mlp.hdf5\n",
      "14/14 [==============================] - 0s 11ms/step - loss: 0.7997 - accuracy: 0.6560 - val_loss: 0.6575 - val_accuracy: 0.8485\n",
      "Epoch 53/1000\n",
      " 1/14 [=>............................] - ETA: 0s - loss: 0.8947 - accuracy: 0.5938\n",
      "Epoch 53: saving model to model/keypoint_classifier\\keypoint_classifier_mlp.hdf5\n",
      "14/14 [==============================] - 0s 8ms/step - loss: 0.8105 - accuracy: 0.6386 - val_loss: 0.6470 - val_accuracy: 0.8737\n",
      "Epoch 54/1000\n",
      " 1/14 [=>............................] - ETA: 0s - loss: 0.8800 - accuracy: 0.6328\n",
      "Epoch 54: saving model to model/keypoint_classifier\\keypoint_classifier_mlp.hdf5\n",
      "14/14 [==============================] - 0s 8ms/step - loss: 0.8125 - accuracy: 0.6403 - val_loss: 0.6334 - val_accuracy: 0.8670\n",
      "Epoch 55/1000\n",
      " 1/14 [=>............................] - ETA: 0s - loss: 0.8738 - accuracy: 0.5781\n",
      "Epoch 55: saving model to model/keypoint_classifier\\keypoint_classifier_mlp.hdf5\n",
      "14/14 [==============================] - 0s 8ms/step - loss: 0.8073 - accuracy: 0.6347 - val_loss: 0.6450 - val_accuracy: 0.8653\n",
      "Epoch 56/1000\n",
      " 8/14 [================>.............] - ETA: 0s - loss: 0.7930 - accuracy: 0.6475\n",
      "Epoch 56: saving model to model/keypoint_classifier\\keypoint_classifier_mlp.hdf5\n",
      "14/14 [==============================] - 0s 26ms/step - loss: 0.7970 - accuracy: 0.6476 - val_loss: 0.6449 - val_accuracy: 0.8687\n",
      "Epoch 57/1000\n",
      "14/14 [==============================] - ETA: 0s - loss: 0.8072 - accuracy: 0.6588\n",
      "Epoch 57: saving model to model/keypoint_classifier\\keypoint_classifier_mlp.hdf5\n",
      "14/14 [==============================] - 0s 18ms/step - loss: 0.8072 - accuracy: 0.6588 - val_loss: 0.6411 - val_accuracy: 0.8754\n",
      "Epoch 58/1000\n",
      " 1/14 [=>............................] - ETA: 0s - loss: 0.7849 - accuracy: 0.6875\n",
      "Epoch 58: saving model to model/keypoint_classifier\\keypoint_classifier_mlp.hdf5\n",
      "14/14 [==============================] - 0s 13ms/step - loss: 0.7792 - accuracy: 0.6633 - val_loss: 0.6332 - val_accuracy: 0.8704\n",
      "Epoch 59/1000\n",
      "14/14 [==============================] - ETA: 0s - loss: 0.7908 - accuracy: 0.6431\n",
      "Epoch 59: saving model to model/keypoint_classifier\\keypoint_classifier_mlp.hdf5\n",
      "14/14 [==============================] - 0s 23ms/step - loss: 0.7908 - accuracy: 0.6431 - val_loss: 0.6246 - val_accuracy: 0.8687\n",
      "Epoch 60/1000\n",
      "12/14 [========================>.....] - ETA: 0s - loss: 0.7693 - accuracy: 0.6634\n",
      "Epoch 60: saving model to model/keypoint_classifier\\keypoint_classifier_mlp.hdf5\n",
      "14/14 [==============================] - 0s 12ms/step - loss: 0.7655 - accuracy: 0.6655 - val_loss: 0.6406 - val_accuracy: 0.8603\n",
      "Epoch 61/1000\n",
      " 9/14 [==================>...........] - ETA: 0s - loss: 0.8024 - accuracy: 0.6484\n",
      "Epoch 61: saving model to model/keypoint_classifier\\keypoint_classifier_mlp.hdf5\n",
      "14/14 [==============================] - 0s 22ms/step - loss: 0.8095 - accuracy: 0.6380 - val_loss: 0.6337 - val_accuracy: 0.8653\n",
      "Epoch 62/1000\n",
      " 9/14 [==================>...........] - ETA: 0s - loss: 0.7623 - accuracy: 0.6701\n",
      "Epoch 62: saving model to model/keypoint_classifier\\keypoint_classifier_mlp.hdf5\n",
      "14/14 [==============================] - 0s 23ms/step - loss: 0.7695 - accuracy: 0.6650 - val_loss: 0.6183 - val_accuracy: 0.8721\n",
      "Epoch 63/1000\n",
      "13/14 [==========================>...] - ETA: 0s - loss: 0.7880 - accuracy: 0.6520\n",
      "Epoch 63: saving model to model/keypoint_classifier\\keypoint_classifier_mlp.hdf5\n",
      "14/14 [==============================] - 0s 27ms/step - loss: 0.7868 - accuracy: 0.6526 - val_loss: 0.6243 - val_accuracy: 0.8721\n",
      "Epoch 64/1000\n",
      "14/14 [==============================] - ETA: 0s - loss: 0.7550 - accuracy: 0.6773\n",
      "Epoch 64: saving model to model/keypoint_classifier\\keypoint_classifier_mlp.hdf5\n",
      "14/14 [==============================] - 0s 28ms/step - loss: 0.7550 - accuracy: 0.6773 - val_loss: 0.6198 - val_accuracy: 0.8653\n",
      "Epoch 65/1000\n",
      "13/14 [==========================>...] - ETA: 0s - loss: 0.7656 - accuracy: 0.6520\n",
      "Epoch 65: saving model to model/keypoint_classifier\\keypoint_classifier_mlp.hdf5\n",
      "14/14 [==============================] - 0s 26ms/step - loss: 0.7650 - accuracy: 0.6549 - val_loss: 0.6102 - val_accuracy: 0.8653\n",
      "Epoch 66/1000\n",
      "14/14 [==============================] - ETA: 0s - loss: 0.7756 - accuracy: 0.6723\n",
      "Epoch 66: saving model to model/keypoint_classifier\\keypoint_classifier_mlp.hdf5\n",
      "14/14 [==============================] - 0s 28ms/step - loss: 0.7756 - accuracy: 0.6723 - val_loss: 0.6145 - val_accuracy: 0.8687\n",
      "Epoch 67/1000\n",
      "12/14 [========================>.....] - ETA: 0s - loss: 0.7759 - accuracy: 0.6712\n",
      "Epoch 67: saving model to model/keypoint_classifier\\keypoint_classifier_mlp.hdf5\n",
      "14/14 [==============================] - 0s 19ms/step - loss: 0.7671 - accuracy: 0.6740 - val_loss: 0.6142 - val_accuracy: 0.8670\n",
      "Epoch 68/1000\n",
      " 1/14 [=>............................] - ETA: 0s - loss: 0.7928 - accuracy: 0.6250\n",
      "Epoch 68: saving model to model/keypoint_classifier\\keypoint_classifier_mlp.hdf5\n",
      "14/14 [==============================] - 0s 14ms/step - loss: 0.7523 - accuracy: 0.6712 - val_loss: 0.6061 - val_accuracy: 0.8670\n",
      "Epoch 69/1000\n",
      " 8/14 [================>.............] - ETA: 0s - loss: 0.7357 - accuracy: 0.6729\n",
      "Epoch 69: saving model to model/keypoint_classifier\\keypoint_classifier_mlp.hdf5\n",
      "14/14 [==============================] - 0s 23ms/step - loss: 0.7456 - accuracy: 0.6717 - val_loss: 0.5998 - val_accuracy: 0.8687\n",
      "Epoch 70/1000\n",
      " 9/14 [==================>...........] - ETA: 0s - loss: 0.7402 - accuracy: 0.6892\n",
      "Epoch 70: saving model to model/keypoint_classifier\\keypoint_classifier_mlp.hdf5\n",
      "14/14 [==============================] - 0s 13ms/step - loss: 0.7440 - accuracy: 0.6796 - val_loss: 0.5896 - val_accuracy: 0.8485\n",
      "Epoch 71/1000\n",
      " 1/14 [=>............................] - ETA: 0s - loss: 0.7844 - accuracy: 0.6094\n",
      "Epoch 71: saving model to model/keypoint_classifier\\keypoint_classifier_mlp.hdf5\n",
      "14/14 [==============================] - 0s 10ms/step - loss: 0.7632 - accuracy: 0.6717 - val_loss: 0.5900 - val_accuracy: 0.8687\n",
      "Epoch 72/1000\n",
      "13/14 [==========================>...] - ETA: 0s - loss: 0.7318 - accuracy: 0.7001\n",
      "Epoch 72: saving model to model/keypoint_classifier\\keypoint_classifier_mlp.hdf5\n",
      "14/14 [==============================] - 0s 12ms/step - loss: 0.7358 - accuracy: 0.6947 - val_loss: 0.5837 - val_accuracy: 0.8636\n",
      "Epoch 73/1000\n",
      " 1/14 [=>............................] - ETA: 0s - loss: 0.7738 - accuracy: 0.6719\n",
      "Epoch 73: saving model to model/keypoint_classifier\\keypoint_classifier_mlp.hdf5\n",
      "14/14 [==============================] - 0s 11ms/step - loss: 0.7501 - accuracy: 0.6908 - val_loss: 0.5972 - val_accuracy: 0.8704\n",
      "Epoch 74/1000\n",
      " 8/14 [================>.............] - ETA: 0s - loss: 0.7265 - accuracy: 0.6875\n",
      "Epoch 74: saving model to model/keypoint_classifier\\keypoint_classifier_mlp.hdf5\n",
      "14/14 [==============================] - 0s 23ms/step - loss: 0.7320 - accuracy: 0.6852 - val_loss: 0.5847 - val_accuracy: 0.8603\n",
      "Epoch 75/1000\n",
      "13/14 [==========================>...] - ETA: 0s - loss: 0.7191 - accuracy: 0.6845\n",
      "Epoch 75: saving model to model/keypoint_classifier\\keypoint_classifier_mlp.hdf5\n",
      "14/14 [==============================] - 0s 19ms/step - loss: 0.7187 - accuracy: 0.6852 - val_loss: 0.5790 - val_accuracy: 0.8687\n",
      "Epoch 76/1000\n",
      " 1/14 [=>............................] - ETA: 0s - loss: 0.8643 - accuracy: 0.6406\n",
      "Epoch 76: saving model to model/keypoint_classifier\\keypoint_classifier_mlp.hdf5\n",
      "14/14 [==============================] - 0s 10ms/step - loss: 0.7109 - accuracy: 0.7059 - val_loss: 0.5773 - val_accuracy: 0.8737\n",
      "Epoch 77/1000\n",
      "10/14 [====================>.........] - ETA: 0s - loss: 0.7198 - accuracy: 0.6961\n",
      "Epoch 77: saving model to model/keypoint_classifier\\keypoint_classifier_mlp.hdf5\n",
      "14/14 [==============================] - 0s 21ms/step - loss: 0.7256 - accuracy: 0.6880 - val_loss: 0.5632 - val_accuracy: 0.8754\n",
      "Epoch 78/1000\n",
      " 1/14 [=>............................] - ETA: 0s - loss: 0.7358 - accuracy: 0.6250\n",
      "Epoch 78: saving model to model/keypoint_classifier\\keypoint_classifier_mlp.hdf5\n",
      "14/14 [==============================] - 0s 7ms/step - loss: 0.7349 - accuracy: 0.6863 - val_loss: 0.5814 - val_accuracy: 0.8653\n",
      "Epoch 79/1000\n",
      " 1/14 [=>............................] - ETA: 0s - loss: 0.7608 - accuracy: 0.7031\n",
      "Epoch 79: saving model to model/keypoint_classifier\\keypoint_classifier_mlp.hdf5\n",
      "14/14 [==============================] - 0s 7ms/step - loss: 0.7272 - accuracy: 0.7099 - val_loss: 0.5757 - val_accuracy: 0.8704\n",
      "Epoch 80/1000\n",
      " 1/14 [=>............................] - ETA: 0s - loss: 0.7193 - accuracy: 0.6719\n",
      "Epoch 80: saving model to model/keypoint_classifier\\keypoint_classifier_mlp.hdf5\n",
      "14/14 [==============================] - 0s 8ms/step - loss: 0.7345 - accuracy: 0.6891 - val_loss: 0.5704 - val_accuracy: 0.8687\n",
      "Epoch 81/1000\n",
      "12/14 [========================>.....] - ETA: 0s - loss: 0.7065 - accuracy: 0.7064\n",
      "Epoch 81: saving model to model/keypoint_classifier\\keypoint_classifier_mlp.hdf5\n",
      "14/14 [==============================] - 0s 14ms/step - loss: 0.7030 - accuracy: 0.7104 - val_loss: 0.5542 - val_accuracy: 0.8754\n",
      "Epoch 82/1000\n",
      " 9/14 [==================>...........] - ETA: 0s - loss: 0.6789 - accuracy: 0.7274\n",
      "Epoch 82: saving model to model/keypoint_classifier\\keypoint_classifier_mlp.hdf5\n",
      "14/14 [==============================] - 0s 23ms/step - loss: 0.6983 - accuracy: 0.7149 - val_loss: 0.5457 - val_accuracy: 0.8721\n",
      "Epoch 83/1000\n",
      " 8/14 [================>.............] - ETA: 0s - loss: 0.6861 - accuracy: 0.7109\n",
      "Epoch 83: saving model to model/keypoint_classifier\\keypoint_classifier_mlp.hdf5\n",
      "14/14 [==============================] - 0s 25ms/step - loss: 0.6961 - accuracy: 0.7093 - val_loss: 0.5492 - val_accuracy: 0.8754\n",
      "Epoch 84/1000\n",
      "13/14 [==========================>...] - ETA: 0s - loss: 0.7228 - accuracy: 0.6839\n",
      "Epoch 84: saving model to model/keypoint_classifier\\keypoint_classifier_mlp.hdf5\n",
      "14/14 [==============================] - 0s 21ms/step - loss: 0.7246 - accuracy: 0.6824 - val_loss: 0.5579 - val_accuracy: 0.8721\n",
      "Epoch 85/1000\n",
      " 9/14 [==================>...........] - ETA: 0s - loss: 0.7102 - accuracy: 0.7005\n",
      "Epoch 85: saving model to model/keypoint_classifier\\keypoint_classifier_mlp.hdf5\n",
      "14/14 [==============================] - 0s 22ms/step - loss: 0.7067 - accuracy: 0.7031 - val_loss: 0.5639 - val_accuracy: 0.8687\n",
      "Epoch 86/1000\n",
      " 9/14 [==================>...........] - ETA: 0s - loss: 0.6901 - accuracy: 0.7196\n",
      "Epoch 86: saving model to model/keypoint_classifier\\keypoint_classifier_mlp.hdf5\n",
      "14/14 [==============================] - 0s 21ms/step - loss: 0.6873 - accuracy: 0.7189 - val_loss: 0.5415 - val_accuracy: 0.8687\n",
      "Epoch 87/1000\n",
      " 8/14 [================>.............] - ETA: 0s - loss: 0.7352 - accuracy: 0.6953\n",
      "Epoch 87: saving model to model/keypoint_classifier\\keypoint_classifier_mlp.hdf5\n",
      "14/14 [==============================] - 0s 16ms/step - loss: 0.7160 - accuracy: 0.7059 - val_loss: 0.5467 - val_accuracy: 0.8653\n",
      "Epoch 88/1000\n",
      "13/14 [==========================>...] - ETA: 0s - loss: 0.6899 - accuracy: 0.7175\n",
      "Epoch 88: saving model to model/keypoint_classifier\\keypoint_classifier_mlp.hdf5\n",
      "14/14 [==============================] - 0s 15ms/step - loss: 0.6934 - accuracy: 0.7155 - val_loss: 0.5256 - val_accuracy: 0.8771\n",
      "Epoch 89/1000\n",
      "10/14 [====================>.........] - ETA: 0s - loss: 0.7016 - accuracy: 0.7156\n",
      "Epoch 89: saving model to model/keypoint_classifier\\keypoint_classifier_mlp.hdf5\n",
      "14/14 [==============================] - 0s 19ms/step - loss: 0.6850 - accuracy: 0.7239 - val_loss: 0.5305 - val_accuracy: 0.8754\n",
      "Epoch 90/1000\n",
      " 9/14 [==================>...........] - ETA: 0s - loss: 0.6987 - accuracy: 0.7031\n",
      "Epoch 90: saving model to model/keypoint_classifier\\keypoint_classifier_mlp.hdf5\n",
      "14/14 [==============================] - 0s 23ms/step - loss: 0.6851 - accuracy: 0.7104 - val_loss: 0.5290 - val_accuracy: 0.8771\n",
      "Epoch 91/1000\n",
      "10/14 [====================>.........] - ETA: 0s - loss: 0.6846 - accuracy: 0.6992\n",
      "Epoch 91: saving model to model/keypoint_classifier\\keypoint_classifier_mlp.hdf5\n",
      "14/14 [==============================] - 0s 16ms/step - loss: 0.6838 - accuracy: 0.7054 - val_loss: 0.5419 - val_accuracy: 0.8704\n",
      "Epoch 92/1000\n",
      " 1/14 [=>............................] - ETA: 0s - loss: 0.6485 - accuracy: 0.7344\n",
      "Epoch 92: saving model to model/keypoint_classifier\\keypoint_classifier_mlp.hdf5\n",
      "14/14 [==============================] - 0s 9ms/step - loss: 0.6803 - accuracy: 0.7245 - val_loss: 0.5310 - val_accuracy: 0.8737\n",
      "Epoch 93/1000\n",
      "14/14 [==============================] - ETA: 0s - loss: 0.6891 - accuracy: 0.7217\n",
      "Epoch 93: saving model to model/keypoint_classifier\\keypoint_classifier_mlp.hdf5\n",
      "14/14 [==============================] - 0s 29ms/step - loss: 0.6891 - accuracy: 0.7217 - val_loss: 0.5241 - val_accuracy: 0.8754\n",
      "Epoch 94/1000\n",
      "13/14 [==========================>...] - ETA: 0s - loss: 0.6814 - accuracy: 0.7200\n",
      "Epoch 94: saving model to model/keypoint_classifier\\keypoint_classifier_mlp.hdf5\n",
      "14/14 [==============================] - 0s 17ms/step - loss: 0.6764 - accuracy: 0.7233 - val_loss: 0.5329 - val_accuracy: 0.8653\n",
      "Epoch 95/1000\n",
      " 1/14 [=>............................] - ETA: 0s - loss: 0.7624 - accuracy: 0.6875\n",
      "Epoch 95: saving model to model/keypoint_classifier\\keypoint_classifier_mlp.hdf5\n",
      "14/14 [==============================] - 0s 8ms/step - loss: 0.6834 - accuracy: 0.7149 - val_loss: 0.5253 - val_accuracy: 0.8670\n",
      "Epoch 96/1000\n",
      " 1/14 [=>............................] - ETA: 0s - loss: 0.6408 - accuracy: 0.7109\n",
      "Epoch 96: saving model to model/keypoint_classifier\\keypoint_classifier_mlp.hdf5\n",
      "14/14 [==============================] - 0s 8ms/step - loss: 0.6818 - accuracy: 0.7160 - val_loss: 0.5148 - val_accuracy: 0.8586\n",
      "Epoch 97/1000\n",
      " 1/14 [=>............................] - ETA: 0s - loss: 0.6975 - accuracy: 0.7109\n",
      "Epoch 97: saving model to model/keypoint_classifier\\keypoint_classifier_mlp.hdf5\n",
      "14/14 [==============================] - 0s 9ms/step - loss: 0.6638 - accuracy: 0.7391 - val_loss: 0.5200 - val_accuracy: 0.8636\n",
      "Epoch 98/1000\n",
      "14/14 [==============================] - ETA: 0s - loss: 0.6550 - accuracy: 0.7245\n",
      "Epoch 98: saving model to model/keypoint_classifier\\keypoint_classifier_mlp.hdf5\n",
      "14/14 [==============================] - 0s 14ms/step - loss: 0.6550 - accuracy: 0.7245 - val_loss: 0.5251 - val_accuracy: 0.8721\n",
      "Epoch 99/1000\n",
      "10/14 [====================>.........] - ETA: 0s - loss: 0.6814 - accuracy: 0.7172\n",
      "Epoch 99: saving model to model/keypoint_classifier\\keypoint_classifier_mlp.hdf5\n",
      "14/14 [==============================] - 0s 20ms/step - loss: 0.6750 - accuracy: 0.7222 - val_loss: 0.5013 - val_accuracy: 0.8737\n",
      "Epoch 100/1000\n",
      "10/14 [====================>.........] - ETA: 0s - loss: 0.6601 - accuracy: 0.7430\n",
      "Epoch 100: saving model to model/keypoint_classifier\\keypoint_classifier_mlp.hdf5\n",
      "14/14 [==============================] - 0s 21ms/step - loss: 0.6703 - accuracy: 0.7363 - val_loss: 0.5134 - val_accuracy: 0.8653\n",
      "Epoch 101/1000\n",
      " 9/14 [==================>...........] - ETA: 0s - loss: 0.6781 - accuracy: 0.7222\n",
      "Epoch 101: saving model to model/keypoint_classifier\\keypoint_classifier_mlp.hdf5\n",
      "14/14 [==============================] - 0s 21ms/step - loss: 0.6776 - accuracy: 0.7222 - val_loss: 0.5144 - val_accuracy: 0.8704\n",
      "Epoch 102/1000\n",
      " 9/14 [==================>...........] - ETA: 0s - loss: 0.6564 - accuracy: 0.7474\n",
      "Epoch 102: saving model to model/keypoint_classifier\\keypoint_classifier_mlp.hdf5\n",
      "14/14 [==============================] - 0s 21ms/step - loss: 0.6698 - accuracy: 0.7396 - val_loss: 0.5172 - val_accuracy: 0.8704\n",
      "Epoch 103/1000\n",
      "10/14 [====================>.........] - ETA: 0s - loss: 0.6511 - accuracy: 0.7477\n",
      "Epoch 103: saving model to model/keypoint_classifier\\keypoint_classifier_mlp.hdf5\n",
      "14/14 [==============================] - 0s 21ms/step - loss: 0.6359 - accuracy: 0.7581 - val_loss: 0.5039 - val_accuracy: 0.8636\n",
      "Epoch 104/1000\n",
      " 1/14 [=>............................] - ETA: 0s - loss: 0.6910 - accuracy: 0.7422\n",
      "Epoch 104: saving model to model/keypoint_classifier\\keypoint_classifier_mlp.hdf5\n",
      "14/14 [==============================] - 0s 9ms/step - loss: 0.6664 - accuracy: 0.7346 - val_loss: 0.4774 - val_accuracy: 0.8687\n",
      "Epoch 105/1000\n",
      " 8/14 [================>.............] - ETA: 0s - loss: 0.6673 - accuracy: 0.7275\n",
      "Epoch 105: saving model to model/keypoint_classifier\\keypoint_classifier_mlp.hdf5\n",
      "14/14 [==============================] - 0s 22ms/step - loss: 0.6636 - accuracy: 0.7278 - val_loss: 0.4908 - val_accuracy: 0.8653\n",
      "Epoch 106/1000\n",
      " 9/14 [==================>...........] - ETA: 0s - loss: 0.6722 - accuracy: 0.7231\n",
      "Epoch 106: saving model to model/keypoint_classifier\\keypoint_classifier_mlp.hdf5\n",
      "14/14 [==============================] - 0s 21ms/step - loss: 0.6715 - accuracy: 0.7194 - val_loss: 0.5108 - val_accuracy: 0.8721\n",
      "Epoch 107/1000\n",
      " 9/14 [==================>...........] - ETA: 0s - loss: 0.6424 - accuracy: 0.7387\n",
      "Epoch 107: saving model to model/keypoint_classifier\\keypoint_classifier_mlp.hdf5\n",
      "14/14 [==============================] - 0s 23ms/step - loss: 0.6587 - accuracy: 0.7306 - val_loss: 0.4843 - val_accuracy: 0.8737\n",
      "Epoch 108/1000\n",
      " 8/14 [================>.............] - ETA: 0s - loss: 0.6397 - accuracy: 0.7441\n",
      "Epoch 108: saving model to model/keypoint_classifier\\keypoint_classifier_mlp.hdf5\n",
      "14/14 [==============================] - 0s 22ms/step - loss: 0.6361 - accuracy: 0.7379 - val_loss: 0.5039 - val_accuracy: 0.8620\n",
      "Epoch 109/1000\n",
      " 9/14 [==================>...........] - ETA: 0s - loss: 0.6579 - accuracy: 0.7335\n",
      "Epoch 109: saving model to model/keypoint_classifier\\keypoint_classifier_mlp.hdf5\n",
      "14/14 [==============================] - 0s 22ms/step - loss: 0.6347 - accuracy: 0.7419 - val_loss: 0.4922 - val_accuracy: 0.8670\n",
      "Epoch 110/1000\n",
      "13/14 [==========================>...] - ETA: 0s - loss: 0.6604 - accuracy: 0.7302\n",
      "Epoch 110: saving model to model/keypoint_classifier\\keypoint_classifier_mlp.hdf5\n",
      "14/14 [==============================] - 0s 24ms/step - loss: 0.6612 - accuracy: 0.7301 - val_loss: 0.5063 - val_accuracy: 0.8670\n",
      "Epoch 111/1000\n",
      " 9/14 [==================>...........] - ETA: 0s - loss: 0.6317 - accuracy: 0.7413\n",
      "Epoch 111: saving model to model/keypoint_classifier\\keypoint_classifier_mlp.hdf5\n",
      "14/14 [==============================] - 0s 13ms/step - loss: 0.6385 - accuracy: 0.7323 - val_loss: 0.4805 - val_accuracy: 0.8704\n",
      "Epoch 112/1000\n",
      " 1/14 [=>............................] - ETA: 0s - loss: 0.6600 - accuracy: 0.7266\n",
      "Epoch 112: saving model to model/keypoint_classifier\\keypoint_classifier_mlp.hdf5\n",
      "14/14 [==============================] - 0s 11ms/step - loss: 0.6485 - accuracy: 0.7402 - val_loss: 0.4857 - val_accuracy: 0.8855\n",
      "Epoch 113/1000\n",
      "14/14 [==============================] - ETA: 0s - loss: 0.6443 - accuracy: 0.7419\n",
      "Epoch 113: saving model to model/keypoint_classifier\\keypoint_classifier_mlp.hdf5\n",
      "14/14 [==============================] - 0s 20ms/step - loss: 0.6443 - accuracy: 0.7419 - val_loss: 0.4739 - val_accuracy: 0.8737\n",
      "Epoch 114/1000\n",
      "13/14 [==========================>...] - ETA: 0s - loss: 0.6534 - accuracy: 0.7314\n",
      "Epoch 114: saving model to model/keypoint_classifier\\keypoint_classifier_mlp.hdf5\n",
      "14/14 [==============================] - 0s 13ms/step - loss: 0.6594 - accuracy: 0.7267 - val_loss: 0.4881 - val_accuracy: 0.8653\n",
      "Epoch 115/1000\n",
      " 9/14 [==================>...........] - ETA: 0s - loss: 0.6139 - accuracy: 0.7595\n",
      "Epoch 115: saving model to model/keypoint_classifier\\keypoint_classifier_mlp.hdf5\n",
      "14/14 [==============================] - 0s 20ms/step - loss: 0.6412 - accuracy: 0.7475 - val_loss: 0.4829 - val_accuracy: 0.8653\n",
      "Epoch 116/1000\n",
      "12/14 [========================>.....] - ETA: 0s - loss: 0.6334 - accuracy: 0.7383\n",
      "Epoch 116: saving model to model/keypoint_classifier\\keypoint_classifier_mlp.hdf5\n",
      "14/14 [==============================] - 0s 15ms/step - loss: 0.6411 - accuracy: 0.7351 - val_loss: 0.4806 - val_accuracy: 0.8788\n",
      "Epoch 117/1000\n",
      "13/14 [==========================>...] - ETA: 0s - loss: 0.6408 - accuracy: 0.7308\n",
      "Epoch 117: saving model to model/keypoint_classifier\\keypoint_classifier_mlp.hdf5\n",
      "14/14 [==============================] - 0s 15ms/step - loss: 0.6407 - accuracy: 0.7306 - val_loss: 0.4768 - val_accuracy: 0.8721\n",
      "Epoch 118/1000\n",
      " 9/14 [==================>...........] - ETA: 0s - loss: 0.6079 - accuracy: 0.7561\n",
      "Epoch 118: saving model to model/keypoint_classifier\\keypoint_classifier_mlp.hdf5\n",
      "14/14 [==============================] - 0s 22ms/step - loss: 0.6222 - accuracy: 0.7469 - val_loss: 0.4817 - val_accuracy: 0.8670\n",
      "Epoch 119/1000\n",
      "14/14 [==============================] - ETA: 0s - loss: 0.6410 - accuracy: 0.7435\n",
      "Epoch 119: saving model to model/keypoint_classifier\\keypoint_classifier_mlp.hdf5\n",
      "14/14 [==============================] - 0s 24ms/step - loss: 0.6410 - accuracy: 0.7435 - val_loss: 0.4953 - val_accuracy: 0.8569\n",
      "Epoch 120/1000\n",
      " 9/14 [==================>...........] - ETA: 0s - loss: 0.6377 - accuracy: 0.7474\n",
      "Epoch 120: saving model to model/keypoint_classifier\\keypoint_classifier_mlp.hdf5\n",
      "14/14 [==============================] - 0s 21ms/step - loss: 0.6451 - accuracy: 0.7363 - val_loss: 0.4970 - val_accuracy: 0.8468\n",
      "Epoch 121/1000\n",
      " 8/14 [================>.............] - ETA: 0s - loss: 0.5877 - accuracy: 0.7676\n",
      "Epoch 121: saving model to model/keypoint_classifier\\keypoint_classifier_mlp.hdf5\n",
      "14/14 [==============================] - 0s 22ms/step - loss: 0.6309 - accuracy: 0.7469 - val_loss: 0.4593 - val_accuracy: 0.8855\n",
      "Epoch 122/1000\n",
      " 9/14 [==================>...........] - ETA: 0s - loss: 0.6751 - accuracy: 0.7248\n",
      "Epoch 122: saving model to model/keypoint_classifier\\keypoint_classifier_mlp.hdf5\n",
      "14/14 [==============================] - 0s 21ms/step - loss: 0.6466 - accuracy: 0.7368 - val_loss: 0.5341 - val_accuracy: 0.7862\n",
      "Epoch 123/1000\n",
      " 9/14 [==================>...........] - ETA: 0s - loss: 0.6471 - accuracy: 0.7352\n",
      "Epoch 123: saving model to model/keypoint_classifier\\keypoint_classifier_mlp.hdf5\n",
      "14/14 [==============================] - 0s 23ms/step - loss: 0.6232 - accuracy: 0.7480 - val_loss: 0.4707 - val_accuracy: 0.8822\n",
      "Epoch 124/1000\n",
      " 9/14 [==================>...........] - ETA: 0s - loss: 0.6281 - accuracy: 0.7500\n",
      "Epoch 124: saving model to model/keypoint_classifier\\keypoint_classifier_mlp.hdf5\n",
      "14/14 [==============================] - 0s 20ms/step - loss: 0.6172 - accuracy: 0.7508 - val_loss: 0.4480 - val_accuracy: 0.8923\n",
      "Epoch 125/1000\n",
      " 8/14 [================>.............] - ETA: 0s - loss: 0.6174 - accuracy: 0.7500\n",
      "Epoch 125: saving model to model/keypoint_classifier\\keypoint_classifier_mlp.hdf5\n",
      "14/14 [==============================] - 0s 22ms/step - loss: 0.6201 - accuracy: 0.7548 - val_loss: 0.4638 - val_accuracy: 0.8956\n",
      "Epoch 126/1000\n",
      " 9/14 [==================>...........] - ETA: 0s - loss: 0.6489 - accuracy: 0.7387\n",
      "Epoch 126: saving model to model/keypoint_classifier\\keypoint_classifier_mlp.hdf5\n",
      "14/14 [==============================] - 0s 22ms/step - loss: 0.6367 - accuracy: 0.7475 - val_loss: 0.5059 - val_accuracy: 0.8822\n",
      "Epoch 127/1000\n",
      " 9/14 [==================>...........] - ETA: 0s - loss: 0.6171 - accuracy: 0.7491\n",
      "Epoch 127: saving model to model/keypoint_classifier\\keypoint_classifier_mlp.hdf5\n",
      "14/14 [==============================] - 0s 23ms/step - loss: 0.6213 - accuracy: 0.7508 - val_loss: 0.4824 - val_accuracy: 0.8990\n",
      "Epoch 128/1000\n",
      " 1/14 [=>............................] - ETA: 0s - loss: 0.6617 - accuracy: 0.7500\n",
      "Epoch 128: saving model to model/keypoint_classifier\\keypoint_classifier_mlp.hdf5\n",
      "14/14 [==============================] - 0s 8ms/step - loss: 0.6188 - accuracy: 0.7587 - val_loss: 0.4923 - val_accuracy: 0.8838\n",
      "Epoch 129/1000\n",
      " 1/14 [=>............................] - ETA: 0s - loss: 0.6414 - accuracy: 0.7109\n",
      "Epoch 129: saving model to model/keypoint_classifier\\keypoint_classifier_mlp.hdf5\n",
      "14/14 [==============================] - 0s 8ms/step - loss: 0.6304 - accuracy: 0.7480 - val_loss: 0.4595 - val_accuracy: 0.8990\n",
      "Epoch 130/1000\n",
      " 1/14 [=>............................] - ETA: 0s - loss: 0.6838 - accuracy: 0.7734\n",
      "Epoch 130: saving model to model/keypoint_classifier\\keypoint_classifier_mlp.hdf5\n",
      "14/14 [==============================] - 0s 9ms/step - loss: 0.6151 - accuracy: 0.7609 - val_loss: 0.4738 - val_accuracy: 0.9024\n",
      "Epoch 131/1000\n",
      " 1/14 [=>............................] - ETA: 0s - loss: 0.5911 - accuracy: 0.7578\n",
      "Epoch 131: saving model to model/keypoint_classifier\\keypoint_classifier_mlp.hdf5\n",
      "14/14 [==============================] - 0s 11ms/step - loss: 0.6038 - accuracy: 0.7677 - val_loss: 0.5010 - val_accuracy: 0.8670\n",
      "Epoch 132/1000\n",
      "13/14 [==========================>...] - ETA: 0s - loss: 0.6134 - accuracy: 0.7488\n",
      "Epoch 132: saving model to model/keypoint_classifier\\keypoint_classifier_mlp.hdf5\n",
      "14/14 [==============================] - 0s 14ms/step - loss: 0.6112 - accuracy: 0.7503 - val_loss: 0.4608 - val_accuracy: 0.8923\n",
      "Epoch 133/1000\n",
      " 1/14 [=>............................] - ETA: 0s - loss: 0.5958 - accuracy: 0.8047\n",
      "Epoch 133: saving model to model/keypoint_classifier\\keypoint_classifier_mlp.hdf5\n",
      "14/14 [==============================] - 0s 7ms/step - loss: 0.6049 - accuracy: 0.7637 - val_loss: 0.4551 - val_accuracy: 0.8990\n",
      "Epoch 134/1000\n",
      " 1/14 [=>............................] - ETA: 0s - loss: 0.5998 - accuracy: 0.8203\n",
      "Epoch 134: saving model to model/keypoint_classifier\\keypoint_classifier_mlp.hdf5\n",
      "14/14 [==============================] - 0s 8ms/step - loss: 0.6318 - accuracy: 0.7514 - val_loss: 0.4449 - val_accuracy: 0.8973\n",
      "Epoch 135/1000\n",
      "13/14 [==========================>...] - ETA: 0s - loss: 0.6209 - accuracy: 0.7512\n",
      "Epoch 135: saving model to model/keypoint_classifier\\keypoint_classifier_mlp.hdf5\n",
      "14/14 [==============================] - 0s 19ms/step - loss: 0.6205 - accuracy: 0.7514 - val_loss: 0.4551 - val_accuracy: 0.8923\n",
      "Epoch 136/1000\n",
      " 1/14 [=>............................] - ETA: 0s - loss: 0.6492 - accuracy: 0.6875\n",
      "Epoch 136: saving model to model/keypoint_classifier\\keypoint_classifier_mlp.hdf5\n",
      "14/14 [==============================] - 0s 7ms/step - loss: 0.6168 - accuracy: 0.7581 - val_loss: 0.4839 - val_accuracy: 0.8636\n",
      "Epoch 137/1000\n",
      " 1/14 [=>............................] - ETA: 0s - loss: 0.5958 - accuracy: 0.7891\n",
      "Epoch 137: saving model to model/keypoint_classifier\\keypoint_classifier_mlp.hdf5\n",
      "14/14 [==============================] - 0s 10ms/step - loss: 0.6128 - accuracy: 0.7447 - val_loss: 0.4540 - val_accuracy: 0.8889\n",
      "Epoch 138/1000\n",
      "14/14 [==============================] - ETA: 0s - loss: 0.6379 - accuracy: 0.7536\n",
      "Epoch 138: saving model to model/keypoint_classifier\\keypoint_classifier_mlp.hdf5\n",
      "14/14 [==============================] - 0s 18ms/step - loss: 0.6379 - accuracy: 0.7536 - val_loss: 0.4641 - val_accuracy: 0.8872\n",
      "Epoch 139/1000\n",
      " 1/14 [=>............................] - ETA: 0s - loss: 0.6006 - accuracy: 0.7578\n",
      "Epoch 139: saving model to model/keypoint_classifier\\keypoint_classifier_mlp.hdf5\n",
      "14/14 [==============================] - 0s 8ms/step - loss: 0.6073 - accuracy: 0.7587 - val_loss: 0.4471 - val_accuracy: 0.8990\n",
      "Epoch 140/1000\n",
      " 1/14 [=>............................] - ETA: 0s - loss: 0.6570 - accuracy: 0.7422\n",
      "Epoch 140: saving model to model/keypoint_classifier\\keypoint_classifier_mlp.hdf5\n",
      "14/14 [==============================] - 0s 8ms/step - loss: 0.5908 - accuracy: 0.7733 - val_loss: 0.4459 - val_accuracy: 0.9007\n",
      "Epoch 141/1000\n",
      " 1/14 [=>............................] - ETA: 0s - loss: 0.6391 - accuracy: 0.7422\n",
      "Epoch 141: saving model to model/keypoint_classifier\\keypoint_classifier_mlp.hdf5\n",
      "14/14 [==============================] - 0s 7ms/step - loss: 0.6040 - accuracy: 0.7654 - val_loss: 0.4509 - val_accuracy: 0.8889\n",
      "Epoch 142/1000\n",
      " 1/14 [=>............................] - ETA: 0s - loss: 0.6265 - accuracy: 0.7500\n",
      "Epoch 142: saving model to model/keypoint_classifier\\keypoint_classifier_mlp.hdf5\n",
      "14/14 [==============================] - 0s 7ms/step - loss: 0.5890 - accuracy: 0.7626 - val_loss: 0.4525 - val_accuracy: 0.8822\n",
      "Epoch 143/1000\n",
      " 1/14 [=>............................] - ETA: 0s - loss: 0.5756 - accuracy: 0.7969\n",
      "Epoch 143: saving model to model/keypoint_classifier\\keypoint_classifier_mlp.hdf5\n",
      "14/14 [==============================] - 0s 16ms/step - loss: 0.6216 - accuracy: 0.7593 - val_loss: 0.4612 - val_accuracy: 0.8771\n",
      "Epoch 144/1000\n",
      " 9/14 [==================>...........] - ETA: 0s - loss: 0.6384 - accuracy: 0.7630\n",
      "Epoch 144: saving model to model/keypoint_classifier\\keypoint_classifier_mlp.hdf5\n",
      "14/14 [==============================] - 0s 24ms/step - loss: 0.6321 - accuracy: 0.7576 - val_loss: 0.4487 - val_accuracy: 0.8889\n",
      "Epoch 145/1000\n",
      " 8/14 [================>.............] - ETA: 0s - loss: 0.6242 - accuracy: 0.7520\n",
      "Epoch 145: saving model to model/keypoint_classifier\\keypoint_classifier_mlp.hdf5\n",
      "14/14 [==============================] - 0s 13ms/step - loss: 0.6165 - accuracy: 0.7536 - val_loss: 0.4463 - val_accuracy: 0.8889\n",
      "Epoch 146/1000\n",
      "12/14 [========================>.....] - ETA: 0s - loss: 0.5956 - accuracy: 0.7624\n",
      "Epoch 146: saving model to model/keypoint_classifier\\keypoint_classifier_mlp.hdf5\n",
      "14/14 [==============================] - 0s 13ms/step - loss: 0.5980 - accuracy: 0.7654 - val_loss: 0.4677 - val_accuracy: 0.8737\n",
      "Epoch 147/1000\n",
      " 9/14 [==================>...........] - ETA: 0s - loss: 0.5827 - accuracy: 0.7769\n",
      "Epoch 147: saving model to model/keypoint_classifier\\keypoint_classifier_mlp.hdf5\n",
      "14/14 [==============================] - 0s 22ms/step - loss: 0.5940 - accuracy: 0.7666 - val_loss: 0.4720 - val_accuracy: 0.8737\n",
      "Epoch 148/1000\n",
      " 8/14 [================>.............] - ETA: 0s - loss: 0.6055 - accuracy: 0.7637\n",
      "Epoch 148: saving model to model/keypoint_classifier\\keypoint_classifier_mlp.hdf5\n",
      "14/14 [==============================] - 0s 12ms/step - loss: 0.5917 - accuracy: 0.7688 - val_loss: 0.4561 - val_accuracy: 0.8838\n",
      "Epoch 149/1000\n",
      " 1/14 [=>............................] - ETA: 0s - loss: 0.5426 - accuracy: 0.7734\n",
      "Epoch 149: saving model to model/keypoint_classifier\\keypoint_classifier_mlp.hdf5\n",
      "14/14 [==============================] - 0s 14ms/step - loss: 0.5944 - accuracy: 0.7525 - val_loss: 0.4513 - val_accuracy: 0.8855\n",
      "Epoch 150/1000\n",
      "10/14 [====================>.........] - ETA: 0s - loss: 0.5823 - accuracy: 0.7688\n",
      "Epoch 150: saving model to model/keypoint_classifier\\keypoint_classifier_mlp.hdf5\n",
      "14/14 [==============================] - 0s 10ms/step - loss: 0.5877 - accuracy: 0.7654 - val_loss: 0.4621 - val_accuracy: 0.8771\n",
      "Epoch 151/1000\n",
      "14/14 [==============================] - ETA: 0s - loss: 0.5732 - accuracy: 0.7710\n",
      "Epoch 151: saving model to model/keypoint_classifier\\keypoint_classifier_mlp.hdf5\n",
      "14/14 [==============================] - 0s 16ms/step - loss: 0.5732 - accuracy: 0.7710 - val_loss: 0.4353 - val_accuracy: 0.8855\n",
      "Epoch 152/1000\n",
      "14/14 [==============================] - ETA: 0s - loss: 0.5816 - accuracy: 0.7705\n",
      "Epoch 152: saving model to model/keypoint_classifier\\keypoint_classifier_mlp.hdf5\n",
      "14/14 [==============================] - 0s 27ms/step - loss: 0.5816 - accuracy: 0.7705 - val_loss: 0.4712 - val_accuracy: 0.8838\n",
      "Epoch 153/1000\n",
      "14/14 [==============================] - ETA: 0s - loss: 0.5994 - accuracy: 0.7738\n",
      "Epoch 153: saving model to model/keypoint_classifier\\keypoint_classifier_mlp.hdf5\n",
      "14/14 [==============================] - 0s 26ms/step - loss: 0.5994 - accuracy: 0.7738 - val_loss: 0.4752 - val_accuracy: 0.8721\n",
      "Epoch 154/1000\n",
      " 8/14 [================>.............] - ETA: 0s - loss: 0.6109 - accuracy: 0.7666\n",
      "Epoch 154: saving model to model/keypoint_classifier\\keypoint_classifier_mlp.hdf5\n",
      "14/14 [==============================] - 0s 23ms/step - loss: 0.5945 - accuracy: 0.7677 - val_loss: 0.4725 - val_accuracy: 0.8737\n",
      "Epoch 155/1000\n",
      "13/14 [==========================>...] - ETA: 0s - loss: 0.5842 - accuracy: 0.7710\n",
      "Epoch 155: saving model to model/keypoint_classifier\\keypoint_classifier_mlp.hdf5\n",
      "14/14 [==============================] - 0s 25ms/step - loss: 0.5880 - accuracy: 0.7727 - val_loss: 0.4342 - val_accuracy: 0.9040\n",
      "Epoch 156/1000\n",
      " 9/14 [==================>...........] - ETA: 0s - loss: 0.5907 - accuracy: 0.7656\n",
      "Epoch 156: saving model to model/keypoint_classifier\\keypoint_classifier_mlp.hdf5\n",
      "14/14 [==============================] - 0s 23ms/step - loss: 0.5932 - accuracy: 0.7677 - val_loss: 0.4716 - val_accuracy: 0.8569\n",
      "Epoch 157/1000\n",
      "14/14 [==============================] - ETA: 0s - loss: 0.6256 - accuracy: 0.7452\n",
      "Epoch 157: saving model to model/keypoint_classifier\\keypoint_classifier_mlp.hdf5\n",
      "14/14 [==============================] - 0s 27ms/step - loss: 0.6256 - accuracy: 0.7452 - val_loss: 0.4663 - val_accuracy: 0.8636\n",
      "Epoch 158/1000\n",
      "13/14 [==========================>...] - ETA: 0s - loss: 0.5872 - accuracy: 0.7656\n",
      "Epoch 158: saving model to model/keypoint_classifier\\keypoint_classifier_mlp.hdf5\n",
      "14/14 [==============================] - 0s 26ms/step - loss: 0.5844 - accuracy: 0.7682 - val_loss: 0.4690 - val_accuracy: 0.8586\n",
      "Epoch 159/1000\n",
      "14/14 [==============================] - ETA: 0s - loss: 0.6013 - accuracy: 0.7671\n",
      "Epoch 159: saving model to model/keypoint_classifier\\keypoint_classifier_mlp.hdf5\n",
      "14/14 [==============================] - 0s 20ms/step - loss: 0.6013 - accuracy: 0.7671 - val_loss: 0.4822 - val_accuracy: 0.8485\n",
      "Epoch 160/1000\n",
      "13/14 [==========================>...] - ETA: 0s - loss: 0.6125 - accuracy: 0.7596\n",
      "Epoch 160: saving model to model/keypoint_classifier\\keypoint_classifier_mlp.hdf5\n",
      "14/14 [==============================] - 0s 13ms/step - loss: 0.6153 - accuracy: 0.7587 - val_loss: 0.4921 - val_accuracy: 0.8367\n",
      "Epoch 161/1000\n",
      " 9/14 [==================>...........] - ETA: 0s - loss: 0.5919 - accuracy: 0.7812\n",
      "Epoch 161: saving model to model/keypoint_classifier\\keypoint_classifier_mlp.hdf5\n",
      "14/14 [==============================] - 0s 21ms/step - loss: 0.5806 - accuracy: 0.7879 - val_loss: 0.4620 - val_accuracy: 0.8822\n",
      "Epoch 162/1000\n",
      " 9/14 [==================>...........] - ETA: 0s - loss: 0.5839 - accuracy: 0.7743\n",
      "Epoch 162: saving model to model/keypoint_classifier\\keypoint_classifier_mlp.hdf5\n",
      "14/14 [==============================] - 0s 21ms/step - loss: 0.5956 - accuracy: 0.7767 - val_loss: 0.4685 - val_accuracy: 0.8788\n",
      "Epoch 163/1000\n",
      " 9/14 [==================>...........] - ETA: 0s - loss: 0.5860 - accuracy: 0.7734\n",
      "Epoch 163: saving model to model/keypoint_classifier\\keypoint_classifier_mlp.hdf5\n",
      "14/14 [==============================] - 0s 21ms/step - loss: 0.5787 - accuracy: 0.7806 - val_loss: 0.4476 - val_accuracy: 0.8990\n",
      "Epoch 164/1000\n",
      " 9/14 [==================>...........] - ETA: 0s - loss: 0.5834 - accuracy: 0.7795\n",
      "Epoch 164: saving model to model/keypoint_classifier\\keypoint_classifier_mlp.hdf5\n",
      "14/14 [==============================] - 0s 21ms/step - loss: 0.5878 - accuracy: 0.7716 - val_loss: 0.4679 - val_accuracy: 0.8552\n",
      "Epoch 165/1000\n",
      " 8/14 [================>.............] - ETA: 0s - loss: 0.5950 - accuracy: 0.7637\n",
      "Epoch 165: saving model to model/keypoint_classifier\\keypoint_classifier_mlp.hdf5\n",
      "14/14 [==============================] - 0s 21ms/step - loss: 0.5869 - accuracy: 0.7671 - val_loss: 0.4784 - val_accuracy: 0.8350\n",
      "Epoch 166/1000\n",
      "14/14 [==============================] - ETA: 0s - loss: 0.5721 - accuracy: 0.7795\n",
      "Epoch 166: saving model to model/keypoint_classifier\\keypoint_classifier_mlp.hdf5\n",
      "14/14 [==============================] - 0s 14ms/step - loss: 0.5721 - accuracy: 0.7795 - val_loss: 0.4596 - val_accuracy: 0.8670\n",
      "Epoch 167/1000\n",
      " 1/14 [=>............................] - ETA: 0s - loss: 0.5461 - accuracy: 0.7812\n",
      "Epoch 167: saving model to model/keypoint_classifier\\keypoint_classifier_mlp.hdf5\n",
      "14/14 [==============================] - 0s 13ms/step - loss: 0.5627 - accuracy: 0.7767 - val_loss: 0.4598 - val_accuracy: 0.8670\n",
      "Epoch 168/1000\n",
      " 9/14 [==================>...........] - ETA: 0s - loss: 0.5290 - accuracy: 0.8012\n",
      "Epoch 168: saving model to model/keypoint_classifier\\keypoint_classifier_mlp.hdf5\n",
      "14/14 [==============================] - 0s 21ms/step - loss: 0.5712 - accuracy: 0.7879 - val_loss: 0.4971 - val_accuracy: 0.8182\n",
      "Epoch 169/1000\n",
      " 9/14 [==================>...........] - ETA: 0s - loss: 0.5817 - accuracy: 0.7769\n",
      "Epoch 169: saving model to model/keypoint_classifier\\keypoint_classifier_mlp.hdf5\n",
      "14/14 [==============================] - 0s 20ms/step - loss: 0.5643 - accuracy: 0.7811 - val_loss: 0.4848 - val_accuracy: 0.8384\n",
      "Epoch 170/1000\n",
      " 9/14 [==================>...........] - ETA: 0s - loss: 0.6028 - accuracy: 0.7613\n",
      "Epoch 170: saving model to model/keypoint_classifier\\keypoint_classifier_mlp.hdf5\n",
      "14/14 [==============================] - 0s 22ms/step - loss: 0.5816 - accuracy: 0.7755 - val_loss: 0.4552 - val_accuracy: 0.8721\n",
      "Epoch 171/1000\n",
      " 9/14 [==================>...........] - ETA: 0s - loss: 0.5805 - accuracy: 0.7778\n",
      "Epoch 171: saving model to model/keypoint_classifier\\keypoint_classifier_mlp.hdf5\n",
      "14/14 [==============================] - 0s 24ms/step - loss: 0.5789 - accuracy: 0.7823 - val_loss: 0.4617 - val_accuracy: 0.8620\n",
      "Epoch 172/1000\n",
      " 8/14 [================>.............] - ETA: 0s - loss: 0.5753 - accuracy: 0.7881\n",
      "Epoch 172: saving model to model/keypoint_classifier\\keypoint_classifier_mlp.hdf5\n",
      "14/14 [==============================] - 0s 23ms/step - loss: 0.5797 - accuracy: 0.7901 - val_loss: 0.4617 - val_accuracy: 0.8586\n",
      "Epoch 173/1000\n",
      " 9/14 [==================>...........] - ETA: 0s - loss: 0.5410 - accuracy: 0.7986\n",
      "Epoch 173: saving model to model/keypoint_classifier\\keypoint_classifier_mlp.hdf5\n",
      "14/14 [==============================] - 0s 21ms/step - loss: 0.5596 - accuracy: 0.7918 - val_loss: 0.4518 - val_accuracy: 0.8687\n",
      "Epoch 174/1000\n",
      " 8/14 [================>.............] - ETA: 0s - loss: 0.5377 - accuracy: 0.7871\n",
      "Epoch 174: saving model to model/keypoint_classifier\\keypoint_classifier_mlp.hdf5\n",
      "14/14 [==============================] - 0s 20ms/step - loss: 0.5512 - accuracy: 0.7806 - val_loss: 0.4245 - val_accuracy: 0.8906\n",
      "Epoch 175/1000\n",
      " 9/14 [==================>...........] - ETA: 0s - loss: 0.5525 - accuracy: 0.7882\n",
      "Epoch 175: saving model to model/keypoint_classifier\\keypoint_classifier_mlp.hdf5\n",
      "14/14 [==============================] - 0s 22ms/step - loss: 0.5527 - accuracy: 0.7924 - val_loss: 0.4305 - val_accuracy: 0.8805\n",
      "Epoch 176/1000\n",
      "14/14 [==============================] - ETA: 0s - loss: 0.5824 - accuracy: 0.7727\n",
      "Epoch 176: saving model to model/keypoint_classifier\\keypoint_classifier_mlp.hdf5\n",
      "14/14 [==============================] - 0s 25ms/step - loss: 0.5824 - accuracy: 0.7727 - val_loss: 0.4656 - val_accuracy: 0.8519\n",
      "Epoch 177/1000\n",
      " 9/14 [==================>...........] - ETA: 0s - loss: 0.5957 - accuracy: 0.7734\n",
      "Epoch 177: saving model to model/keypoint_classifier\\keypoint_classifier_mlp.hdf5\n",
      "14/14 [==============================] - 0s 16ms/step - loss: 0.5872 - accuracy: 0.7744 - val_loss: 0.4743 - val_accuracy: 0.8434\n",
      "Epoch 178/1000\n",
      " 1/14 [=>............................] - ETA: 0s - loss: 0.6232 - accuracy: 0.7969\n",
      "Epoch 178: saving model to model/keypoint_classifier\\keypoint_classifier_mlp.hdf5\n",
      "14/14 [==============================] - 0s 8ms/step - loss: 0.5554 - accuracy: 0.7879 - val_loss: 0.4559 - val_accuracy: 0.8620\n",
      "Epoch 179/1000\n",
      " 1/14 [=>............................] - ETA: 0s - loss: 0.5039 - accuracy: 0.8125\n",
      "Epoch 179: saving model to model/keypoint_classifier\\keypoint_classifier_mlp.hdf5\n",
      "14/14 [==============================] - 0s 8ms/step - loss: 0.5508 - accuracy: 0.7952 - val_loss: 0.4614 - val_accuracy: 0.8552\n",
      "Epoch 180/1000\n",
      " 1/14 [=>............................] - ETA: 0s - loss: 0.5673 - accuracy: 0.7734\n",
      "Epoch 180: saving model to model/keypoint_classifier\\keypoint_classifier_mlp.hdf5\n",
      "14/14 [==============================] - 0s 8ms/step - loss: 0.5683 - accuracy: 0.7817 - val_loss: 0.4755 - val_accuracy: 0.8367\n",
      "Epoch 181/1000\n",
      " 1/14 [=>............................] - ETA: 0s - loss: 0.5136 - accuracy: 0.8281\n",
      "Epoch 181: saving model to model/keypoint_classifier\\keypoint_classifier_mlp.hdf5\n",
      "14/14 [==============================] - 0s 10ms/step - loss: 0.5821 - accuracy: 0.7727 - val_loss: 0.4898 - val_accuracy: 0.8316\n",
      "Epoch 182/1000\n",
      " 1/14 [=>............................] - ETA: 0s - loss: 0.5206 - accuracy: 0.8125\n",
      "Epoch 182: saving model to model/keypoint_classifier\\keypoint_classifier_mlp.hdf5\n",
      "14/14 [==============================] - 0s 10ms/step - loss: 0.5497 - accuracy: 0.7980 - val_loss: 0.4660 - val_accuracy: 0.8620\n",
      "Epoch 183/1000\n",
      " 1/14 [=>............................] - ETA: 0s - loss: 0.4971 - accuracy: 0.7734\n",
      "Epoch 183: saving model to model/keypoint_classifier\\keypoint_classifier_mlp.hdf5\n",
      "14/14 [==============================] - 0s 12ms/step - loss: 0.5681 - accuracy: 0.7890 - val_loss: 0.4792 - val_accuracy: 0.8300\n",
      "Epoch 184/1000\n",
      " 9/14 [==================>...........] - ETA: 0s - loss: 0.5736 - accuracy: 0.7656\n",
      "Epoch 184: saving model to model/keypoint_classifier\\keypoint_classifier_mlp.hdf5\n",
      "14/14 [==============================] - 0s 23ms/step - loss: 0.5727 - accuracy: 0.7716 - val_loss: 0.4583 - val_accuracy: 0.8535\n",
      "Epoch 185/1000\n",
      " 8/14 [================>.............] - ETA: 0s - loss: 0.5660 - accuracy: 0.7910\n",
      "Epoch 185: saving model to model/keypoint_classifier\\keypoint_classifier_mlp.hdf5\n",
      "14/14 [==============================] - 0s 22ms/step - loss: 0.5749 - accuracy: 0.7851 - val_loss: 0.4793 - val_accuracy: 0.8468\n",
      "Epoch 186/1000\n",
      " 9/14 [==================>...........] - ETA: 0s - loss: 0.5606 - accuracy: 0.7891\n",
      "Epoch 186: saving model to model/keypoint_classifier\\keypoint_classifier_mlp.hdf5\n",
      "14/14 [==============================] - 0s 16ms/step - loss: 0.5666 - accuracy: 0.7800 - val_loss: 0.4671 - val_accuracy: 0.8519\n",
      "Epoch 187/1000\n",
      " 1/14 [=>............................] - ETA: 0s - loss: 0.4381 - accuracy: 0.8594\n",
      "Epoch 187: saving model to model/keypoint_classifier\\keypoint_classifier_mlp.hdf5\n",
      "14/14 [==============================] - 0s 8ms/step - loss: 0.5504 - accuracy: 0.7952 - val_loss: 0.4536 - val_accuracy: 0.8569\n",
      "Epoch 188/1000\n",
      " 1/14 [=>............................] - ETA: 0s - loss: 0.4358 - accuracy: 0.8125\n",
      "Epoch 188: saving model to model/keypoint_classifier\\keypoint_classifier_mlp.hdf5\n",
      "14/14 [==============================] - 0s 10ms/step - loss: 0.5576 - accuracy: 0.7856 - val_loss: 0.4410 - val_accuracy: 0.8603\n",
      "Epoch 189/1000\n",
      "12/14 [========================>.....] - ETA: 0s - loss: 0.5975 - accuracy: 0.7773\n",
      "Epoch 189: saving model to model/keypoint_classifier\\keypoint_classifier_mlp.hdf5\n",
      "14/14 [==============================] - 0s 16ms/step - loss: 0.5837 - accuracy: 0.7828 - val_loss: 0.4919 - val_accuracy: 0.8081\n",
      "Epoch 190/1000\n",
      "13/14 [==========================>...] - ETA: 0s - loss: 0.5551 - accuracy: 0.7879\n",
      "Epoch 190: saving model to model/keypoint_classifier\\keypoint_classifier_mlp.hdf5\n",
      "14/14 [==============================] - 0s 15ms/step - loss: 0.5459 - accuracy: 0.7918 - val_loss: 0.4605 - val_accuracy: 0.8636\n",
      "Epoch 191/1000\n",
      "14/14 [==============================] - ETA: 0s - loss: 0.5546 - accuracy: 0.7823\n",
      "Epoch 191: saving model to model/keypoint_classifier\\keypoint_classifier_mlp.hdf5\n",
      "14/14 [==============================] - 0s 14ms/step - loss: 0.5546 - accuracy: 0.7823 - val_loss: 0.4523 - val_accuracy: 0.8519\n",
      "Epoch 192/1000\n",
      " 7/14 [==============>...............] - ETA: 0s - loss: 0.5644 - accuracy: 0.7768\n",
      "Epoch 192: saving model to model/keypoint_classifier\\keypoint_classifier_mlp.hdf5\n",
      "14/14 [==============================] - 0s 14ms/step - loss: 0.5519 - accuracy: 0.7901 - val_loss: 0.4434 - val_accuracy: 0.8434\n",
      "Epoch 193/1000\n",
      " 1/14 [=>............................] - ETA: 0s - loss: 0.5619 - accuracy: 0.7969\n",
      "Epoch 193: saving model to model/keypoint_classifier\\keypoint_classifier_mlp.hdf5\n",
      "14/14 [==============================] - 0s 9ms/step - loss: 0.5567 - accuracy: 0.7862 - val_loss: 0.4332 - val_accuracy: 0.8704\n",
      "Epoch 194/1000\n",
      "13/14 [==========================>...] - ETA: 0s - loss: 0.5542 - accuracy: 0.7867\n",
      "Epoch 194: saving model to model/keypoint_classifier\\keypoint_classifier_mlp.hdf5\n",
      "14/14 [==============================] - 0s 13ms/step - loss: 0.5554 - accuracy: 0.7856 - val_loss: 0.4910 - val_accuracy: 0.8098\n",
      "Epoch 194: early stopping\n"
     ]
    },
    {
     "data": {
      "text/plain": [
       "<keras.callbacks.History at 0x285719f4b50>"
      ]
     },
     "execution_count": 12,
     "metadata": {},
     "output_type": "execute_result"
    }
   ],
   "source": [
    "model.fit(\n",
    "    X_train,\n",
    "    y_train,\n",
    "    epochs=1000,\n",
    "    batch_size=128,\n",
    "    validation_data=(X_test, y_test),\n",
    "    callbacks=[cp_callback, es_callback]\n",
    ")"
   ]
  },
  {
   "cell_type": "code",
   "execution_count": 13,
   "metadata": {
    "colab": {
     "base_uri": "https://localhost:8080/"
    },
    "id": "pxvb2Y299hE3",
    "outputId": "59eb3185-2e37-4b9e-bc9d-ab1b8ac29b7f"
   },
   "outputs": [
    {
     "name": "stdout",
     "output_type": "stream",
     "text": [
      "5/5 [==============================] - 0s 4ms/step - loss: 0.4910 - accuracy: 0.8098\n"
     ]
    }
   ],
   "source": [
    "# Model evaluation\n",
    "val_loss, val_acc = model.evaluate(X_test, y_test, batch_size=128)"
   ]
  },
  {
   "cell_type": "code",
   "execution_count": 14,
   "metadata": {
    "id": "RBkmDeUW9hE4"
   },
   "outputs": [],
   "source": [
    "# Loading the saved model\n",
    "model = tf.keras.models.load_model(model_save_path)"
   ]
  },
  {
   "cell_type": "code",
   "execution_count": 15,
   "metadata": {
    "colab": {
     "base_uri": "https://localhost:8080/"
    },
    "id": "tFz9Tb0I9hE4",
    "outputId": "1c3b3528-54ae-4ee2-ab04-77429211cbef"
   },
   "outputs": [
    {
     "name": "stdout",
     "output_type": "stream",
     "text": [
      "[4.7554905e-03 7.6237763e-04 8.2073331e-02 9.1240877e-01]\n",
      "3\n"
     ]
    }
   ],
   "source": [
    "# Inference test\n",
    "predict_result = model.predict(np.array([X_test[0]]))\n",
    "print(np.squeeze(predict_result))\n",
    "print(np.argmax(np.squeeze(predict_result)))"
   ]
  },
  {
   "cell_type": "markdown",
   "metadata": {
    "id": "S3U4yNWx9hE4"
   },
   "source": [
    "# Confusion matrix"
   ]
  },
  {
   "cell_type": "code",
   "execution_count": 16,
   "metadata": {
    "colab": {
     "base_uri": "https://localhost:8080/",
     "height": 582
    },
    "id": "AP1V6SCk9hE5",
    "outputId": "08e41a80-7a4a-4619-8125-ecc371368d19"
   },
   "outputs": [
    {
     "data": {
      "image/png": "[encoded data removed]",
      "text/plain": [
       "<Figure size 504x432 with 2 Axes>"
      ]
     },
     "metadata": {
      "needs_background": "light"
     },
     "output_type": "display_data"
    },
    {
     "name": "stdout",
     "output_type": "stream",
     "text": [
      "Classification Report\n",
      "              precision    recall  f1-score   support\n",
      "\n",
      "           0       0.91      0.93      0.92        92\n",
      "           1       0.69      0.90      0.78        88\n",
      "           2       0.95      0.67      0.79       250\n",
      "           3       0.71      0.90      0.80       164\n",
      "\n",
      "    accuracy                           0.81       594\n",
      "   macro avg       0.82      0.85      0.82       594\n",
      "weighted avg       0.84      0.81      0.81       594\n",
      "\n"
     ]
    }
   ],
   "source": [
    "import pandas as pd\n",
    "import seaborn as sns\n",
    "import matplotlib.pyplot as plt\n",
    "from sklearn.metrics import confusion_matrix, classification_report\n",
    "\n",
    "def print_confusion_matrix(y_true, y_pred, report=True):\n",
    "    labels = sorted(list(set(y_true)))\n",
    "    cmx_data = confusion_matrix(y_true, y_pred, labels=labels)\n",
    "    \n",
    "    df_cmx = pd.DataFrame(cmx_data, index=labels, columns=labels)\n",
    " \n",
    "    fig, ax = plt.subplots(figsize=(7, 6))\n",
    "    sns.heatmap(df_cmx, annot=True, fmt='g' ,square=False)\n",
    "    ax.set_ylim(len(set(y_true)), 0)\n",
    "    plt.show()\n",
    "    \n",
    "    if report:\n",
    "        print('Classification Report')\n",
    "        print(classification_report(y_test, y_pred))\n",
    "\n",
    "Y_pred = model.predict(X_test)\n",
    "y_pred = np.argmax(Y_pred, axis=1)\n",
    "\n",
    "print_confusion_matrix(y_test, y_pred)"
   ]
  },
  {
   "cell_type": "markdown",
   "metadata": {
    "id": "FNP6aqzc9hE5"
   },
   "source": [
    "# Convert to model for Tensorflow-Lite"
   ]
  },
  {
   "cell_type": "code",
   "execution_count": 17,
   "metadata": {
    "id": "ODjnYyld9hE6"
   },
   "outputs": [],
   "source": [
    "# Save as a model dedicated to inference\n",
    "model.save(model_save_path, include_optimizer=False)"
   ]
  },
  {
   "cell_type": "code",
   "execution_count": 18,
   "metadata": {
    "colab": {
     "base_uri": "https://localhost:8080/"
    },
    "id": "zRfuK8Y59hE6",
    "outputId": "a4ca585c-b5d5-4244-8291-8674063209bb"
   },
   "outputs": [
    {
     "name": "stdout",
     "output_type": "stream",
     "text": [
      "INFO:tensorflow:Assets written to: C:\\Users\\pablo\\AppData\\Local\\Temp\\tmpvohvvi7m\\assets\n"
     ]
    },
    {
     "name": "stderr",
     "output_type": "stream",
     "text": [
      "WARNING:absl:Buffer deduplication procedure will be skipped when flatbuffer library is not properly loaded\n"
     ]
    },
    {
     "data": {
      "text/plain": [
       "6416"
      ]
     },
     "execution_count": 18,
     "metadata": {},
     "output_type": "execute_result"
    }
   ],
   "source": [
    "# Transform model (quantization)\n",
    "\n",
    "converter = tf.lite.TFLiteConverter.from_keras_model(model)\n",
    "converter.optimizations = [tf.lite.Optimize.DEFAULT]\n",
    "tflite_quantized_model = converter.convert()\n",
    "\n",
    "open(tflite_save_path, 'wb').write(tflite_quantized_model)"
   ]
  },
  {
   "cell_type": "markdown",
   "metadata": {
    "id": "CHBPBXdx9hE6"
   },
   "source": [
    "# Inference test"
   ]
  },
  {
   "cell_type": "code",
   "execution_count": 19,
   "metadata": {
    "id": "mGAzLocO9hE7"
   },
   "outputs": [],
   "source": [
    "interpreter = tf.lite.Interpreter(model_path=tflite_save_path)\n",
    "interpreter.allocate_tensors()"
   ]
  },
  {
   "cell_type": "code",
   "execution_count": 20,
   "metadata": {
    "id": "oQuDK8YS9hE7"
   },
   "outputs": [],
   "source": [
    "# Get I / O tensor\n",
    "input_details = interpreter.get_input_details()\n",
    "output_details = interpreter.get_output_details()"
   ]
  },
  {
   "cell_type": "code",
   "execution_count": 21,
   "metadata": {
    "id": "2_ixAf_l9hE7"
   },
   "outputs": [],
   "source": [
    "interpreter.set_tensor(input_details[0]['index'], np.array([X_test[0]]))"
   ]
  },
  {
   "cell_type": "code",
   "execution_count": 22,
   "metadata": {
    "colab": {
     "base_uri": "https://localhost:8080/"
    },
    "id": "s4FoAnuc9hE7",
    "outputId": "91f18257-8d8b-4ef3-c558-e9b5f94fabbf",
    "scrolled": true
   },
   "outputs": [
    {
     "name": "stdout",
     "output_type": "stream",
     "text": [
      "Wall time: 1.51 ms\n"
     ]
    }
   ],
   "source": [
    "%%time\n",
    "# Inference implementation\n",
    "interpreter.invoke()\n",
    "tflite_results = interpreter.get_tensor(output_details[0]['index'])"
   ]
  },
  {
   "cell_type": "code",
   "execution_count": 23,
   "metadata": {
    "colab": {
     "base_uri": "https://localhost:8080/"
    },
    "id": "vONjp19J9hE8",
    "outputId": "77205e24-fd00-42c4-f7b6-e06e527c2cba"
   },
   "outputs": [
    {
     "name": "stdout",
     "output_type": "stream",
     "text": [
      "[4.7554956e-03 7.6237757e-04 8.2073316e-02 9.1240877e-01]\n",
      "3\n"
     ]
    }
   ],
   "source": [
    "print(np.squeeze(tflite_results))\n",
    "print(np.argmax(np.squeeze(tflite_results)))"
   ]
  },
  {
   "cell_type": "code",
   "execution_count": null,
   "metadata": {},
   "outputs": [],
   "source": []
  }
 ],
 "metadata": {
  "accelerator": "GPU",
  "colab": {
   "collapsed_sections": [],
   "name": "keypoint_classification_EN.ipynb",
   "provenance": [],
   "toc_visible": true
  },
  "interpreter": {
   "hash": "e58e6d0c6948327b8a11e2fdb3e42a6def7c3b11ab6e677549a7512aaa6e3e29"
  },
  "kernelspec": {
   "display_name": "Python 3.9.6 64-bit",
   "language": "python",
   "name": "python3"
  },
  "language_info": {
   "codemirror_mode": {
    "name": "ipython",
    "version": 3
   },
   "file_extension": ".py",
   "mimetype": "text/x-python",
   "name": "python",
   "nbconvert_exporter": "python",
   "pygments_lexer": "ipython3",
   "version": "3.9.6"
  }
 },
 "nbformat": 4,
 "nbformat_minor": 1
}
