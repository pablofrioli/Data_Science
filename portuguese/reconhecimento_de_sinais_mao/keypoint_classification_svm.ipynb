{
 "cells": [
  {
   "cell_type": "markdown",
   "id": "9fa78c48",
   "metadata": {},
   "source": [
    "# Bibliotecas,  Funções, e Diretórios"
   ]
  },
  {
   "cell_type": "code",
   "execution_count": 8,
   "id": "1d0b776a",
   "metadata": {},
   "outputs": [],
   "source": [
    "# Importando bibliotecas\n",
    "import numpy as np\n",
    "import matplotlib.pyplot as plt\n",
    "from sklearn.model_selection import GridSearchCV, StratifiedKFold, train_test_split\n",
    "from sklearn.pipeline import Pipeline\n",
    "from sklearn.metrics import confusion_matrix, classification_report, ConfusionMatrixDisplay\n",
    "from sklearn.svm import SVC\n",
    "from joblib import dump"
   ]
  },
  {
   "cell_type": "code",
   "execution_count": 9,
   "id": "ab404147",
   "metadata": {},
   "outputs": [],
   "source": [
    "# função para imprimir/plotar métricas de avalialção do modelo\n",
    "def classification_metrics(estimator):\n",
    "    \n",
    "    print(\"\\nMétricas de avaliação de treino:\")\n",
    "\n",
    "    y_pred_train = estimator.predict(X_train)\n",
    "\n",
    "    print(confusion_matrix(y_train, y_pred_train))\n",
    "\n",
    "    ConfusionMatrixDisplay.from_predictions(y_train, y_pred_train)\n",
    "    plt.show()\n",
    "\n",
    "    print(classification_report(y_train, y_pred_train))\n",
    "\n",
    "\n",
    "    # ============================================\n",
    "\n",
    "    print(\"\\nMétricas de avaliação de teste:\")\n",
    "\n",
    "    y_pred_test = estimator.predict(X_test)\n",
    "\n",
    "    print(confusion_matrix(y_test, y_pred_test))\n",
    "\n",
    "    ConfusionMatrixDisplay.from_predictions(y_test, y_pred_test)\n",
    "    plt.show()\n",
    "\n",
    "    print(classification_report(y_test, y_pred_test))"
   ]
  },
  {
   "cell_type": "code",
   "execution_count": 10,
   "id": "5007a0e0",
   "metadata": {},
   "outputs": [],
   "source": [
    "# Especeficação dos caminhos das pastas\n",
    "dataset = 'model/keypoint_classifier/keypoint_dataset.csv'\n",
    "model_save_path = 'model/keypoint_classifier/keypoint_classifier_svm.joblib'"
   ]
  },
  {
   "cell_type": "markdown",
   "id": "ca5d60de",
   "metadata": {},
   "source": [
    "# Obtendo os dados"
   ]
  },
  {
   "cell_type": "code",
   "execution_count": 11,
   "id": "77e208eb",
   "metadata": {},
   "outputs": [],
   "source": [
    "# Upload dos dados\n",
    "X_dataset = np.loadtxt(dataset, delimiter=',', dtype='float32', usecols=list(range(1, (21 * 2) + 1)))\n",
    "y_dataset = np.loadtxt(dataset, delimiter=',', dtype='int32', usecols=(0))"
   ]
  },
  {
   "cell_type": "code",
   "execution_count": 12,
   "id": "837ef27d",
   "metadata": {},
   "outputs": [],
   "source": [
    "# Separação dos dados em amostra de treino e teste\n",
    "X_train, X_test, y_train, y_test = train_test_split(X_dataset,\n",
    "                                                    y_dataset, \n",
    "                                                    test_size = 0.25, \n",
    "                                                    random_state = 42, \n",
    "                                                    stratify= y_dataset\n",
    "                                                   )"
   ]
  },
  {
   "cell_type": "markdown",
   "id": "0253c0cb",
   "metadata": {},
   "source": [
    "# Estimando o Modelo"
   ]
  },
  {
   "cell_type": "code",
   "execution_count": 13,
   "id": "cf8a05ee",
   "metadata": {},
   "outputs": [
    {
     "name": "stdout",
     "output_type": "stream",
     "text": [
      "Fitting 5 folds for each of 50 candidates, totalling 250 fits\n"
     ]
    },
    {
     "data": {
      "text/plain": [
       "GridSearchCV(cv=StratifiedKFold(n_splits=5, random_state=42, shuffle=True),\n",
       "             estimator=Pipeline(steps=[('svc', SVC(random_state=42))]),\n",
       "             n_jobs=-1,\n",
       "             param_grid={'svc__C': array([1.e-02, 1.e-01, 1.e+00, 1.e+01, 1.e+02]),\n",
       "                         'svc__gamma': array([1.e-02, 1.e-01, 1.e+00, 1.e+01, 1.e+02]),\n",
       "                         'svc__kernel': ['rbf', 'poly']},\n",
       "             scoring='f1_weighted', verbose=10)"
      ]
     },
     "execution_count": 13,
     "metadata": {},
     "output_type": "execute_result"
    }
   ],
   "source": [
    "# Criando pipe para processar dados e selecionar modelo SVM\n",
    "pipe_svc = Pipeline([(\"svc\", SVC(random_state = 42))])\n",
    "\n",
    "# Criando grid de parâmetros para otimização\n",
    "param_grid_svc = {\"svc__kernel\" : [\"rbf\", \"poly\"],\n",
    "                  \"svc__C\"      : np.logspace(-2, 2, 5),\n",
    "                  \"svc__gamma\"  : np.logspace(-2, 2, 5)}\n",
    "\n",
    "# Criando amostras para cross-validation\n",
    "splitter = StratifiedKFold(n_splits = 5, shuffle = True, random_state = 42)\n",
    "\n",
    "# Otimização dos parâmetros\n",
    "grid_svc = GridSearchCV(estimator = pipe_svc,\n",
    "                       param_grid = param_grid_svc,\n",
    "                       scoring    = \"f1_weighted\",\n",
    "                       cv         = splitter,\n",
    "                       verbose    = 10,\n",
    "                       n_jobs     = -1\n",
    "                       )\n",
    "\n",
    "# Estimação do modelo\n",
    "grid_svc.fit(X_train, y_train)"
   ]
  },
  {
   "cell_type": "markdown",
   "id": "aee576c2",
   "metadata": {},
   "source": [
    "# Avaliação do modelo"
   ]
  },
  {
   "cell_type": "code",
   "execution_count": 14,
   "id": "393de6d5",
   "metadata": {},
   "outputs": [
    {
     "name": "stdout",
     "output_type": "stream",
     "text": [
      "\n",
      "Métricas de avaliação de treino:\n",
      "[[253   0   0   0]\n",
      " [  0 286   0   0]\n",
      " [  0   0 781   0]\n",
      " [  0   0   7 501]]\n"
     ]
    },
    {
     "data": {
      "image/png": "[encoded data removed]",
      "text/plain": [
       "<Figure size 432x288 with 2 Axes>"
      ]
     },
     "metadata": {
      "needs_background": "light"
     },
     "output_type": "display_data"
    },
    {
     "name": "stdout",
     "output_type": "stream",
     "text": [
      "              precision    recall  f1-score   support\n",
      "\n",
      "           0       1.00      1.00      1.00       253\n",
      "           1       1.00      1.00      1.00       286\n",
      "           2       0.99      1.00      1.00       781\n",
      "           3       1.00      0.99      0.99       508\n",
      "\n",
      "    accuracy                           1.00      1828\n",
      "   macro avg       1.00      1.00      1.00      1828\n",
      "weighted avg       1.00      1.00      1.00      1828\n",
      "\n",
      "\n",
      "Métricas de avaliação de teste:\n",
      "[[ 79   2   3   1]\n",
      " [  1  94   0   0]\n",
      " [  0   1 259   0]\n",
      " [  1   0   2 167]]\n"
     ]
    },
    {
     "data": {
      "image/png": "[encoded data removed]",
      "text/plain": [
       "<Figure size 432x288 with 2 Axes>"
      ]
     },
     "metadata": {
      "needs_background": "light"
     },
     "output_type": "display_data"
    },
    {
     "name": "stdout",
     "output_type": "stream",
     "text": [
      "              precision    recall  f1-score   support\n",
      "\n",
      "           0       0.98      0.93      0.95        85\n",
      "           1       0.97      0.99      0.98        95\n",
      "           2       0.98      1.00      0.99       260\n",
      "           3       0.99      0.98      0.99       170\n",
      "\n",
      "    accuracy                           0.98       610\n",
      "   macro avg       0.98      0.97      0.98       610\n",
      "weighted avg       0.98      0.98      0.98       610\n",
      "\n"
     ]
    }
   ],
   "source": [
    "# Métricas de classificação\n",
    "classification_metrics(grid_svc)"
   ]
  },
  {
   "cell_type": "markdown",
   "id": "4f1af8cd",
   "metadata": {},
   "source": [
    "# Disponibilizando o modelo"
   ]
  },
  {
   "cell_type": "code",
   "execution_count": 15,
   "id": "83faa794",
   "metadata": {},
   "outputs": [
    {
     "data": {
      "text/plain": [
       "['model/keypoint_classifier/keypoint_classifier_svm.joblib']"
      ]
     },
     "execution_count": 15,
     "metadata": {},
     "output_type": "execute_result"
    }
   ],
   "source": [
    "# Salvando modelo para inferência\n",
    "dump(grid_svc, model_save_path)"
   ]
  }
 ],
 "metadata": {
  "interpreter": {
   "hash": "e58e6d0c6948327b8a11e2fdb3e42a6def7c3b11ab6e677549a7512aaa6e3e29"
  },
  "kernelspec": {
   "display_name": "Python 3 (ipykernel)",
   "language": "python",
   "name": "python3"
  },
  "language_info": {
   "codemirror_mode": {
    "name": "ipython",
    "version": 3
   },
   "file_extension": ".py",
   "mimetype": "text/x-python",
   "name": "python",
   "nbconvert_exporter": "python",
   "pygments_lexer": "ipython3",
   "version": "3.9.6"
  }
 },
 "nbformat": 4,
 "nbformat_minor": 5
}
